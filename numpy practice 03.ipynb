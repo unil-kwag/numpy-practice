{
 "cells": [
  {
   "cell_type": "code",
   "execution_count": 1,
   "id": "7384d1f7",
   "metadata": {},
   "outputs": [],
   "source": [
    "import numpy as np"
   ]
  },
  {
   "cell_type": "code",
   "execution_count": 2,
   "id": "0531ce8e",
   "metadata": {},
   "outputs": [],
   "source": [
    "a = np.array(43)"
   ]
  },
  {
   "cell_type": "code",
   "execution_count": 3,
   "id": "438ebeab",
   "metadata": {},
   "outputs": [
    {
     "data": {
      "text/plain": [
       "numpy.ndarray"
      ]
     },
     "execution_count": 3,
     "metadata": {},
     "output_type": "execute_result"
    }
   ],
   "source": [
    "type(a)"
   ]
  },
  {
   "cell_type": "code",
   "execution_count": 4,
   "id": "85eb4654",
   "metadata": {},
   "outputs": [
    {
     "data": {
      "text/plain": [
       "0"
      ]
     },
     "execution_count": 4,
     "metadata": {},
     "output_type": "execute_result"
    }
   ],
   "source": [
    "a.ndim"
   ]
  },
  {
   "cell_type": "code",
   "execution_count": 5,
   "id": "84a08557",
   "metadata": {},
   "outputs": [
    {
     "data": {
      "text/plain": [
       "()"
      ]
     },
     "execution_count": 5,
     "metadata": {},
     "output_type": "execute_result"
    }
   ],
   "source": [
    "a.shape"
   ]
  },
  {
   "cell_type": "code",
   "execution_count": 6,
   "id": "a3564e7f",
   "metadata": {},
   "outputs": [
    {
     "data": {
      "text/plain": [
       "dtype('int64')"
      ]
     },
     "execution_count": 6,
     "metadata": {},
     "output_type": "execute_result"
    }
   ],
   "source": [
    "a.dtype"
   ]
  },
  {
   "cell_type": "code",
   "execution_count": 7,
   "id": "564be322",
   "metadata": {},
   "outputs": [
    {
     "data": {
      "text/plain": [
       "True"
      ]
     },
     "execution_count": 7,
     "metadata": {},
     "output_type": "execute_result"
    }
   ],
   "source": [
    "a == 43"
   ]
  },
  {
   "cell_type": "code",
   "execution_count": 8,
   "id": "b9bcd247",
   "metadata": {},
   "outputs": [],
   "source": [
    "i = 43"
   ]
  },
  {
   "cell_type": "code",
   "execution_count": 9,
   "id": "4adfb984",
   "metadata": {},
   "outputs": [
    {
     "name": "stdout",
     "output_type": "stream",
     "text": [
      "'int' object has no attribute 'ndim'\n"
     ]
    }
   ],
   "source": [
    "try:\n",
    "    i.ndim\n",
    "except Exception as e:\n",
    "    print(e)"
   ]
  },
  {
   "cell_type": "code",
   "execution_count": 10,
   "id": "c08ab21d",
   "metadata": {},
   "outputs": [],
   "source": [
    "v = np.array([43])"
   ]
  },
  {
   "cell_type": "code",
   "execution_count": 11,
   "id": "c73b47a1",
   "metadata": {},
   "outputs": [
    {
     "data": {
      "text/plain": [
       "numpy.ndarray"
      ]
     },
     "execution_count": 11,
     "metadata": {},
     "output_type": "execute_result"
    }
   ],
   "source": [
    "type(v)"
   ]
  },
  {
   "cell_type": "code",
   "execution_count": 12,
   "id": "b9af6350",
   "metadata": {},
   "outputs": [
    {
     "data": {
      "text/plain": [
       "array([43])"
      ]
     },
     "execution_count": 12,
     "metadata": {},
     "output_type": "execute_result"
    }
   ],
   "source": [
    "v"
   ]
  },
  {
   "cell_type": "code",
   "execution_count": 13,
   "id": "dac4e2da",
   "metadata": {},
   "outputs": [
    {
     "data": {
      "text/plain": [
       "1"
      ]
     },
     "execution_count": 13,
     "metadata": {},
     "output_type": "execute_result"
    }
   ],
   "source": [
    "v.ndim"
   ]
  },
  {
   "cell_type": "code",
   "execution_count": 14,
   "id": "e28d1ee3",
   "metadata": {},
   "outputs": [
    {
     "data": {
      "text/plain": [
       "(1,)"
      ]
     },
     "execution_count": 14,
     "metadata": {},
     "output_type": "execute_result"
    }
   ],
   "source": [
    "v.shape"
   ]
  },
  {
   "cell_type": "code",
   "execution_count": 15,
   "id": "8c728808",
   "metadata": {},
   "outputs": [],
   "source": [
    "v = np.arange(10)"
   ]
  },
  {
   "cell_type": "code",
   "execution_count": 16,
   "id": "152f27cc",
   "metadata": {},
   "outputs": [
    {
     "data": {
      "text/plain": [
       "array([0, 1, 2, 3, 4, 5, 6, 7, 8, 9])"
      ]
     },
     "execution_count": 16,
     "metadata": {},
     "output_type": "execute_result"
    }
   ],
   "source": [
    "v"
   ]
  },
  {
   "cell_type": "code",
   "execution_count": 17,
   "id": "b6a04d6b",
   "metadata": {},
   "outputs": [
    {
     "data": {
      "text/plain": [
       "dtype('int64')"
      ]
     },
     "execution_count": 17,
     "metadata": {},
     "output_type": "execute_result"
    }
   ],
   "source": [
    "v.dtype"
   ]
  },
  {
   "cell_type": "code",
   "execution_count": 18,
   "id": "6028652a",
   "metadata": {},
   "outputs": [],
   "source": [
    "v1 = np.arange(10.5,20.5,0.5)"
   ]
  },
  {
   "cell_type": "code",
   "execution_count": 19,
   "id": "f250b0d1",
   "metadata": {},
   "outputs": [
    {
     "data": {
      "text/plain": [
       "array([10.5, 11. , 11.5, 12. , 12.5, 13. , 13.5, 14. , 14.5, 15. , 15.5,\n",
       "       16. , 16.5, 17. , 17.5, 18. , 18.5, 19. , 19.5, 20. ])"
      ]
     },
     "execution_count": 19,
     "metadata": {},
     "output_type": "execute_result"
    }
   ],
   "source": [
    "v1"
   ]
  },
  {
   "cell_type": "code",
   "execution_count": 20,
   "id": "c5ff4f89",
   "metadata": {},
   "outputs": [
    {
     "data": {
      "text/plain": [
       "dtype('float64')"
      ]
     },
     "execution_count": 20,
     "metadata": {},
     "output_type": "execute_result"
    }
   ],
   "source": [
    "v1.dtype"
   ]
  },
  {
   "cell_type": "code",
   "execution_count": 21,
   "id": "e38b6ef2",
   "metadata": {},
   "outputs": [
    {
     "data": {
      "text/plain": [
       "20"
      ]
     },
     "execution_count": 21,
     "metadata": {},
     "output_type": "execute_result"
    }
   ],
   "source": [
    "v1.size"
   ]
  },
  {
   "cell_type": "code",
   "execution_count": 22,
   "id": "7a5b0b29",
   "metadata": {},
   "outputs": [],
   "source": [
    "v3 = np.arange(60).reshape(6,10)"
   ]
  },
  {
   "cell_type": "code",
   "execution_count": 23,
   "id": "1fb2a254",
   "metadata": {},
   "outputs": [
    {
     "data": {
      "text/plain": [
       "(6, 10)"
      ]
     },
     "execution_count": 23,
     "metadata": {},
     "output_type": "execute_result"
    }
   ],
   "source": [
    "v3.shape"
   ]
  },
  {
   "cell_type": "code",
   "execution_count": 24,
   "id": "3d2dd51a",
   "metadata": {},
   "outputs": [],
   "source": [
    "v4 = np.arange(60).reshape(3,4,5)"
   ]
  },
  {
   "cell_type": "code",
   "execution_count": 25,
   "id": "50d6635c",
   "metadata": {},
   "outputs": [
    {
     "data": {
      "text/plain": [
       "(3, 4, 5)"
      ]
     },
     "execution_count": 25,
     "metadata": {},
     "output_type": "execute_result"
    }
   ],
   "source": [
    "v4.shape"
   ]
  },
  {
   "cell_type": "code",
   "execution_count": 26,
   "id": "c0a87b95",
   "metadata": {},
   "outputs": [],
   "source": [
    "la = np.linspace(1,10,10)"
   ]
  },
  {
   "cell_type": "code",
   "execution_count": 27,
   "id": "78268e73",
   "metadata": {},
   "outputs": [
    {
     "data": {
      "text/plain": [
       "array([ 1.,  2.,  3.,  4.,  5.,  6.,  7.,  8.,  9., 10.])"
      ]
     },
     "execution_count": 27,
     "metadata": {},
     "output_type": "execute_result"
    }
   ],
   "source": [
    "la"
   ]
  },
  {
   "cell_type": "code",
   "execution_count": 28,
   "id": "c34678d8",
   "metadata": {},
   "outputs": [
    {
     "data": {
      "text/plain": [
       "dtype('float64')"
      ]
     },
     "execution_count": 28,
     "metadata": {},
     "output_type": "execute_result"
    }
   ],
   "source": [
    "la.dtype"
   ]
  },
  {
   "cell_type": "code",
   "execution_count": 29,
   "id": "6bc7e87c",
   "metadata": {},
   "outputs": [],
   "source": [
    "la2 = np.linspace(1,2,10,retstep=True)"
   ]
  },
  {
   "cell_type": "code",
   "execution_count": 30,
   "id": "878b5ae1",
   "metadata": {},
   "outputs": [
    {
     "data": {
      "text/plain": [
       "(array([1.        , 1.11111111, 1.22222222, 1.33333333, 1.44444444,\n",
       "        1.55555556, 1.66666667, 1.77777778, 1.88888889, 2.        ]),\n",
       " 0.1111111111111111)"
      ]
     },
     "execution_count": 30,
     "metadata": {},
     "output_type": "execute_result"
    }
   ],
   "source": [
    "la2"
   ]
  },
  {
   "cell_type": "code",
   "execution_count": 31,
   "id": "341a8cfd",
   "metadata": {},
   "outputs": [
    {
     "data": {
      "text/plain": [
       "10"
      ]
     },
     "execution_count": 31,
     "metadata": {},
     "output_type": "execute_result"
    }
   ],
   "source": [
    "la2[0].size"
   ]
  },
  {
   "cell_type": "code",
   "execution_count": 33,
   "id": "b6d10fb9",
   "metadata": {},
   "outputs": [],
   "source": [
    "la1 = np.linspace(1,10,10,endpoint=False, retstep=True)"
   ]
  },
  {
   "cell_type": "code",
   "execution_count": 34,
   "id": "5e09278f",
   "metadata": {},
   "outputs": [
    {
     "data": {
      "text/plain": [
       "(array([1. , 1.9, 2.8, 3.7, 4.6, 5.5, 6.4, 7.3, 8.2, 9.1]), 0.9)"
      ]
     },
     "execution_count": 34,
     "metadata": {},
     "output_type": "execute_result"
    }
   ],
   "source": [
    "la1"
   ]
  },
  {
   "cell_type": "code",
   "execution_count": 35,
   "id": "747c6cec",
   "metadata": {},
   "outputs": [],
   "source": [
    "lo = np.logspace(0,2,4)"
   ]
  },
  {
   "cell_type": "code",
   "execution_count": 36,
   "id": "ab65b84f",
   "metadata": {},
   "outputs": [
    {
     "data": {
      "text/plain": [
       "array([  1.        ,   4.64158883,  21.5443469 , 100.        ])"
      ]
     },
     "execution_count": 36,
     "metadata": {},
     "output_type": "execute_result"
    }
   ],
   "source": [
    "lo"
   ]
  },
  {
   "cell_type": "code",
   "execution_count": 37,
   "id": "22d22daa",
   "metadata": {},
   "outputs": [],
   "source": [
    "la2 = np.linspace(0,2,4)"
   ]
  },
  {
   "cell_type": "code",
   "execution_count": 38,
   "id": "a661ad9c",
   "metadata": {},
   "outputs": [
    {
     "data": {
      "text/plain": [
       "array([0.        , 0.66666667, 1.33333333, 2.        ])"
      ]
     },
     "execution_count": 38,
     "metadata": {},
     "output_type": "execute_result"
    }
   ],
   "source": [
    "la2"
   ]
  },
  {
   "cell_type": "code",
   "execution_count": 39,
   "id": "5e8b3169",
   "metadata": {},
   "outputs": [
    {
     "name": "stdout",
     "output_type": "stream",
     "text": [
      "1.0\n",
      "4.641588833612778\n",
      "21.544346900318832\n",
      "100.0\n"
     ]
    }
   ],
   "source": [
    "for i in la2 :\n",
    "    print(np.power(10,i))"
   ]
  },
  {
   "cell_type": "code",
   "execution_count": 40,
   "id": "ccde0408",
   "metadata": {},
   "outputs": [],
   "source": [
    "v = np.arange(3,5)"
   ]
  },
  {
   "cell_type": "code",
   "execution_count": 41,
   "id": "ee917e74",
   "metadata": {},
   "outputs": [
    {
     "data": {
      "text/plain": [
       "array([3, 4])"
      ]
     },
     "execution_count": 41,
     "metadata": {},
     "output_type": "execute_result"
    }
   ],
   "source": [
    "v"
   ]
  },
  {
   "cell_type": "code",
   "execution_count": 42,
   "id": "276de812",
   "metadata": {},
   "outputs": [],
   "source": [
    "v_p = np.power(v,2)"
   ]
  },
  {
   "cell_type": "code",
   "execution_count": 43,
   "id": "8a922f6b",
   "metadata": {},
   "outputs": [],
   "source": [
    "v_r = np.sqrt(np.sum(v_p))"
   ]
  },
  {
   "cell_type": "code",
   "execution_count": 44,
   "id": "4f6c7159",
   "metadata": {},
   "outputs": [
    {
     "data": {
      "text/plain": [
       "5.0"
      ]
     },
     "execution_count": 44,
     "metadata": {},
     "output_type": "execute_result"
    }
   ],
   "source": [
    "v_r"
   ]
  },
  {
   "cell_type": "code",
   "execution_count": 45,
   "id": "11fe7137",
   "metadata": {},
   "outputs": [
    {
     "data": {
      "text/plain": [
       "5.0"
      ]
     },
     "execution_count": 45,
     "metadata": {},
     "output_type": "execute_result"
    }
   ],
   "source": [
    "np.hypot(v[0],v[1])"
   ]
  },
  {
   "cell_type": "code",
   "execution_count": 46,
   "id": "216e564f",
   "metadata": {},
   "outputs": [
    {
     "data": {
      "text/plain": [
       "5.0"
      ]
     },
     "execution_count": 46,
     "metadata": {},
     "output_type": "execute_result"
    }
   ],
   "source": [
    "np.linalg.norm(v)"
   ]
  },
  {
   "cell_type": "code",
   "execution_count": 47,
   "id": "11e1b4f8",
   "metadata": {},
   "outputs": [],
   "source": [
    "e1 = np.array([1,0,0])"
   ]
  },
  {
   "cell_type": "code",
   "execution_count": 48,
   "id": "c6a2e29e",
   "metadata": {},
   "outputs": [
    {
     "data": {
      "text/plain": [
       "1.0"
      ]
     },
     "execution_count": 48,
     "metadata": {},
     "output_type": "execute_result"
    }
   ],
   "source": [
    "np.linalg.norm(e1)"
   ]
  },
  {
   "cell_type": "code",
   "execution_count": 49,
   "id": "3cb72e82",
   "metadata": {},
   "outputs": [],
   "source": [
    "e2 = np.array([0,1,0])"
   ]
  },
  {
   "cell_type": "code",
   "execution_count": 50,
   "id": "9d164616",
   "metadata": {},
   "outputs": [
    {
     "data": {
      "text/plain": [
       "1.0"
      ]
     },
     "execution_count": 50,
     "metadata": {},
     "output_type": "execute_result"
    }
   ],
   "source": [
    "np.linalg.norm(e2)"
   ]
  },
  {
   "cell_type": "code",
   "execution_count": 51,
   "id": "6c907e9b",
   "metadata": {},
   "outputs": [],
   "source": [
    "e3 = np.array([0,0,1])"
   ]
  },
  {
   "cell_type": "code",
   "execution_count": 52,
   "id": "b925730c",
   "metadata": {},
   "outputs": [
    {
     "data": {
      "text/plain": [
       "1.0"
      ]
     },
     "execution_count": 52,
     "metadata": {},
     "output_type": "execute_result"
    }
   ],
   "source": [
    "np.linalg.norm(e3)"
   ]
  },
  {
   "cell_type": "code",
   "execution_count": 53,
   "id": "e6cc7559",
   "metadata": {},
   "outputs": [],
   "source": [
    "v_3 = np.array([1,2,3])"
   ]
  },
  {
   "cell_type": "code",
   "execution_count": 55,
   "id": "c9589fc8",
   "metadata": {},
   "outputs": [],
   "source": [
    "v_3_n = np.linalg.norm(v_3)"
   ]
  },
  {
   "cell_type": "code",
   "execution_count": 56,
   "id": "0e58fd77",
   "metadata": {},
   "outputs": [
    {
     "data": {
      "text/plain": [
       "3.7416573867739413"
      ]
     },
     "execution_count": 56,
     "metadata": {},
     "output_type": "execute_result"
    }
   ],
   "source": [
    "v_3_n"
   ]
  },
  {
   "cell_type": "code",
   "execution_count": 57,
   "id": "2118289c",
   "metadata": {},
   "outputs": [],
   "source": [
    "v_3_u = v_3 /v_3_n"
   ]
  },
  {
   "cell_type": "code",
   "execution_count": 58,
   "id": "5c15923e",
   "metadata": {},
   "outputs": [
    {
     "data": {
      "text/plain": [
       "array([0.26726124, 0.53452248, 0.80178373])"
      ]
     },
     "execution_count": 58,
     "metadata": {},
     "output_type": "execute_result"
    }
   ],
   "source": [
    "v_3_u"
   ]
  },
  {
   "cell_type": "code",
   "execution_count": 60,
   "id": "50e4c391",
   "metadata": {},
   "outputs": [
    {
     "data": {
      "text/plain": [
       "1.0"
      ]
     },
     "execution_count": 60,
     "metadata": {},
     "output_type": "execute_result"
    }
   ],
   "source": [
    "np.linalg.norm(v_3_u)"
   ]
  },
  {
   "cell_type": "code",
   "execution_count": 66,
   "id": "264563fc",
   "metadata": {},
   "outputs": [],
   "source": [
    "def normal(v):\n",
    "    return v / np.sqrt(np.dot(v,v))"
   ]
  },
  {
   "cell_type": "code",
   "execution_count": 67,
   "id": "f99747bd",
   "metadata": {},
   "outputs": [],
   "source": [
    "v_4 = np.array([1,2,3,4])"
   ]
  },
  {
   "cell_type": "code",
   "execution_count": 68,
   "id": "994f605c",
   "metadata": {},
   "outputs": [],
   "source": [
    "v_4_u = normal(v_4)"
   ]
  },
  {
   "cell_type": "code",
   "execution_count": 69,
   "id": "28a6d70d",
   "metadata": {},
   "outputs": [
    {
     "data": {
      "text/plain": [
       "array([0.18257419, 0.36514837, 0.54772256, 0.73029674])"
      ]
     },
     "execution_count": 69,
     "metadata": {},
     "output_type": "execute_result"
    }
   ],
   "source": [
    "v_4_u"
   ]
  },
  {
   "cell_type": "code",
   "execution_count": 71,
   "id": "7230bac3",
   "metadata": {},
   "outputs": [
    {
     "data": {
      "text/plain": [
       "0.9999999999999999"
      ]
     },
     "execution_count": 71,
     "metadata": {},
     "output_type": "execute_result"
    }
   ],
   "source": [
    "np.linalg.norm(v_4_u)"
   ]
  },
  {
   "cell_type": "code",
   "execution_count": 72,
   "id": "f76f2856",
   "metadata": {},
   "outputs": [
    {
     "data": {
      "text/plain": [
       "1.0"
      ]
     },
     "execution_count": 72,
     "metadata": {},
     "output_type": "execute_result"
    }
   ],
   "source": [
    "np.round(np.linalg.norm(v_4_u),10)"
   ]
  },
  {
   "cell_type": "code",
   "execution_count": 73,
   "id": "6c33660f",
   "metadata": {},
   "outputs": [],
   "source": [
    "a = np.arange(3,5)"
   ]
  },
  {
   "cell_type": "code",
   "execution_count": 75,
   "id": "4ccd1329",
   "metadata": {},
   "outputs": [],
   "source": [
    "b = np.arange(3,5)"
   ]
  },
  {
   "cell_type": "code",
   "execution_count": 76,
   "id": "9931986b",
   "metadata": {},
   "outputs": [
    {
     "data": {
      "text/plain": [
       "True"
      ]
     },
     "execution_count": 76,
     "metadata": {},
     "output_type": "execute_result"
    }
   ],
   "source": [
    "np.array_equal(a,b)"
   ]
  },
  {
   "cell_type": "code",
   "execution_count": 77,
   "id": "9561b92b",
   "metadata": {},
   "outputs": [],
   "source": [
    "a_1 = np.linalg.norm(a)"
   ]
  },
  {
   "cell_type": "code",
   "execution_count": 78,
   "id": "dfdd7bee",
   "metadata": {},
   "outputs": [],
   "source": [
    "b_1 = np.linalg.norm(b)"
   ]
  },
  {
   "cell_type": "code",
   "execution_count": 79,
   "id": "791785c8",
   "metadata": {},
   "outputs": [
    {
     "data": {
      "text/plain": [
       "True"
      ]
     },
     "execution_count": 79,
     "metadata": {},
     "output_type": "execute_result"
    }
   ],
   "source": [
    "a_1 == b_1"
   ]
  },
  {
   "cell_type": "code",
   "execution_count": 80,
   "id": "905d15c9",
   "metadata": {},
   "outputs": [],
   "source": [
    "b_2 = -1*np.linalg.norm(b)"
   ]
  },
  {
   "cell_type": "code",
   "execution_count": 82,
   "id": "dbdbddc1",
   "metadata": {},
   "outputs": [
    {
     "data": {
      "text/plain": [
       "False"
      ]
     },
     "execution_count": 82,
     "metadata": {},
     "output_type": "execute_result"
    }
   ],
   "source": [
    "a_1 == b_2"
   ]
  },
  {
   "cell_type": "code",
   "execution_count": 83,
   "id": "e261d83b",
   "metadata": {},
   "outputs": [],
   "source": [
    "c = np.arange(10,13)"
   ]
  },
  {
   "cell_type": "code",
   "execution_count": 84,
   "id": "6fb7f956",
   "metadata": {},
   "outputs": [],
   "source": [
    "d = np.arange(0,3)"
   ]
  },
  {
   "cell_type": "code",
   "execution_count": 85,
   "id": "4e8173b0",
   "metadata": {},
   "outputs": [
    {
     "data": {
      "text/plain": [
       "17.320508075688775"
      ]
     },
     "execution_count": 85,
     "metadata": {},
     "output_type": "execute_result"
    }
   ],
   "source": [
    "np.sqrt(np.sum(np.square(c-d)))"
   ]
  },
  {
   "cell_type": "code",
   "execution_count": 86,
   "id": "9469ffff",
   "metadata": {},
   "outputs": [
    {
     "data": {
      "text/plain": [
       "17.320508075688775"
      ]
     },
     "execution_count": 86,
     "metadata": {},
     "output_type": "execute_result"
    }
   ],
   "source": [
    "np.linalg.norm(c-d)"
   ]
  },
  {
   "cell_type": "code",
   "execution_count": 87,
   "id": "2190439c",
   "metadata": {},
   "outputs": [],
   "source": [
    "A = np.array([np.array([[43],[44]])])"
   ]
  },
  {
   "cell_type": "code",
   "execution_count": 88,
   "id": "ec26e5f6",
   "metadata": {},
   "outputs": [
    {
     "data": {
      "text/plain": [
       "numpy.ndarray"
      ]
     },
     "execution_count": 88,
     "metadata": {},
     "output_type": "execute_result"
    }
   ],
   "source": [
    "type(A)"
   ]
  },
  {
   "cell_type": "code",
   "execution_count": 89,
   "id": "40a1fd63",
   "metadata": {},
   "outputs": [
    {
     "data": {
      "text/plain": [
       "array([[[43],\n",
       "        [44]]])"
      ]
     },
     "execution_count": 89,
     "metadata": {},
     "output_type": "execute_result"
    }
   ],
   "source": [
    "A"
   ]
  },
  {
   "cell_type": "code",
   "execution_count": 90,
   "id": "6d1aba7c",
   "metadata": {},
   "outputs": [
    {
     "data": {
      "text/plain": [
       "dtype('int64')"
      ]
     },
     "execution_count": 90,
     "metadata": {},
     "output_type": "execute_result"
    }
   ],
   "source": [
    "A.dtype"
   ]
  },
  {
   "cell_type": "code",
   "execution_count": 91,
   "id": "29dba433",
   "metadata": {},
   "outputs": [
    {
     "data": {
      "text/plain": [
       "3"
      ]
     },
     "execution_count": 91,
     "metadata": {},
     "output_type": "execute_result"
    }
   ],
   "source": [
    "A.ndim"
   ]
  },
  {
   "cell_type": "code",
   "execution_count": 92,
   "id": "86f05827",
   "metadata": {},
   "outputs": [
    {
     "data": {
      "text/plain": [
       "(1, 2, 1)"
      ]
     },
     "execution_count": 92,
     "metadata": {},
     "output_type": "execute_result"
    }
   ],
   "source": [
    "A.shape"
   ]
  },
  {
   "cell_type": "code",
   "execution_count": 93,
   "id": "0d4f45c0",
   "metadata": {},
   "outputs": [],
   "source": [
    "shape = (3,4)"
   ]
  },
  {
   "cell_type": "code",
   "execution_count": 94,
   "id": "49500fe9",
   "metadata": {},
   "outputs": [],
   "source": [
    "dtype = np.int64"
   ]
  },
  {
   "cell_type": "code",
   "execution_count": 95,
   "id": "770794f7",
   "metadata": {},
   "outputs": [],
   "source": [
    "B = np.full(shape,7, dtype)"
   ]
  },
  {
   "cell_type": "code",
   "execution_count": 96,
   "id": "d7fe4fe4",
   "metadata": {},
   "outputs": [
    {
     "data": {
      "text/plain": [
       "array([[7, 7, 7, 7],\n",
       "       [7, 7, 7, 7],\n",
       "       [7, 7, 7, 7]])"
      ]
     },
     "execution_count": 96,
     "metadata": {},
     "output_type": "execute_result"
    }
   ],
   "source": [
    "B"
   ]
  },
  {
   "cell_type": "code",
   "execution_count": 97,
   "id": "8b6097a6",
   "metadata": {},
   "outputs": [],
   "source": [
    "v1 = np.array([1,2,3,4])"
   ]
  },
  {
   "cell_type": "code",
   "execution_count": 98,
   "id": "d17db841",
   "metadata": {},
   "outputs": [
    {
     "data": {
      "text/plain": [
       "1"
      ]
     },
     "execution_count": 98,
     "metadata": {},
     "output_type": "execute_result"
    }
   ],
   "source": [
    "np.linalg.matrix_rank(v1)"
   ]
  },
  {
   "cell_type": "code",
   "execution_count": 100,
   "id": "0f77da5e",
   "metadata": {},
   "outputs": [],
   "source": [
    "c = np.array([[1,2,4],[2,4,8]])"
   ]
  },
  {
   "cell_type": "code",
   "execution_count": 101,
   "id": "b7095624",
   "metadata": {},
   "outputs": [
    {
     "data": {
      "text/plain": [
       "array([[1, 2, 4],\n",
       "       [2, 4, 8]])"
      ]
     },
     "execution_count": 101,
     "metadata": {},
     "output_type": "execute_result"
    }
   ],
   "source": [
    "c"
   ]
  },
  {
   "cell_type": "code",
   "execution_count": 102,
   "id": "6e8c9b19",
   "metadata": {},
   "outputs": [
    {
     "data": {
      "text/plain": [
       "1"
      ]
     },
     "execution_count": 102,
     "metadata": {},
     "output_type": "execute_result"
    }
   ],
   "source": [
    "np.linalg.matrix_rank(c)"
   ]
  },
  {
   "cell_type": "code",
   "execution_count": 103,
   "id": "66f33e07",
   "metadata": {},
   "outputs": [],
   "source": [
    "c1 = np.array([[1,2,4],[2,4,8],[3,4,5]])"
   ]
  },
  {
   "cell_type": "code",
   "execution_count": 104,
   "id": "ff440206",
   "metadata": {},
   "outputs": [
    {
     "data": {
      "text/plain": [
       "2"
      ]
     },
     "execution_count": 104,
     "metadata": {},
     "output_type": "execute_result"
    }
   ],
   "source": [
    "np.linalg.matrix_rank(c1)"
   ]
  },
  {
   "cell_type": "code",
   "execution_count": 105,
   "id": "45fb4903",
   "metadata": {},
   "outputs": [
    {
     "data": {
      "text/plain": [
       "0.0"
      ]
     },
     "execution_count": 105,
     "metadata": {},
     "output_type": "execute_result"
    }
   ],
   "source": [
    "np.linalg.det(c1)"
   ]
  },
  {
   "cell_type": "code",
   "execution_count": 106,
   "id": "190a5f41",
   "metadata": {},
   "outputs": [
    {
     "data": {
      "text/plain": [
       "array([0, 0, 0])"
      ]
     },
     "execution_count": 106,
     "metadata": {},
     "output_type": "execute_result"
    }
   ],
   "source": [
    "c1[0]*2 -c1[1]"
   ]
  },
  {
   "cell_type": "code",
   "execution_count": 107,
   "id": "d0971a3f",
   "metadata": {},
   "outputs": [],
   "source": [
    "c2 = np.array([[1,3,4],[1,8,5],[2,3,4]])"
   ]
  },
  {
   "cell_type": "code",
   "execution_count": 108,
   "id": "b7ab8c59",
   "metadata": {},
   "outputs": [
    {
     "data": {
      "text/plain": [
       "3"
      ]
     },
     "execution_count": 108,
     "metadata": {},
     "output_type": "execute_result"
    }
   ],
   "source": [
    "np.linalg.matrix_rank(c2)"
   ]
  },
  {
   "cell_type": "code",
   "execution_count": 109,
   "id": "1fdd210e",
   "metadata": {},
   "outputs": [
    {
     "data": {
      "text/plain": [
       "-17.0"
      ]
     },
     "execution_count": 109,
     "metadata": {},
     "output_type": "execute_result"
    }
   ],
   "source": [
    "np.linalg.det(c2)"
   ]
  },
  {
   "cell_type": "code",
   "execution_count": 110,
   "id": "78851f66",
   "metadata": {},
   "outputs": [
    {
     "data": {
      "text/plain": [
       "3"
      ]
     },
     "execution_count": 110,
     "metadata": {},
     "output_type": "execute_result"
    }
   ],
   "source": [
    "np.linalg.matrix_rank(c2.T)"
   ]
  },
  {
   "cell_type": "code",
   "execution_count": 111,
   "id": "ad832afb",
   "metadata": {},
   "outputs": [],
   "source": [
    "c3 = np.array([[1,2,3],[4,5,6],[0,0,0]])"
   ]
  },
  {
   "cell_type": "code",
   "execution_count": 112,
   "id": "75c3ec05",
   "metadata": {},
   "outputs": [
    {
     "data": {
      "text/plain": [
       "array([[1, 3, 4],\n",
       "       [1, 8, 5],\n",
       "       [2, 3, 4]])"
      ]
     },
     "execution_count": 112,
     "metadata": {},
     "output_type": "execute_result"
    }
   ],
   "source": [
    "c2"
   ]
  },
  {
   "cell_type": "code",
   "execution_count": 113,
   "id": "7b7d0755",
   "metadata": {},
   "outputs": [
    {
     "data": {
      "text/plain": [
       "2"
      ]
     },
     "execution_count": 113,
     "metadata": {},
     "output_type": "execute_result"
    }
   ],
   "source": [
    "np.linalg.matrix_rank(c3)"
   ]
  },
  {
   "cell_type": "code",
   "execution_count": 114,
   "id": "530983f5",
   "metadata": {},
   "outputs": [
    {
     "data": {
      "text/plain": [
       "0.0"
      ]
     },
     "execution_count": 114,
     "metadata": {},
     "output_type": "execute_result"
    }
   ],
   "source": [
    "np.linalg.det(c3)"
   ]
  },
  {
   "cell_type": "code",
   "execution_count": 115,
   "id": "0f32e187",
   "metadata": {},
   "outputs": [],
   "source": [
    "a = np.arange(1,10)"
   ]
  },
  {
   "cell_type": "code",
   "execution_count": 116,
   "id": "455bfd93",
   "metadata": {},
   "outputs": [
    {
     "data": {
      "text/plain": [
       "45"
      ]
     },
     "execution_count": 116,
     "metadata": {},
     "output_type": "execute_result"
    }
   ],
   "source": [
    "a.sum()"
   ]
  },
  {
   "cell_type": "code",
   "execution_count": 117,
   "id": "1778c48b",
   "metadata": {},
   "outputs": [
    {
     "data": {
      "text/plain": [
       "45"
      ]
     },
     "execution_count": 117,
     "metadata": {},
     "output_type": "execute_result"
    }
   ],
   "source": [
    "np.sum(a)"
   ]
  },
  {
   "cell_type": "code",
   "execution_count": 118,
   "id": "f3d7491a",
   "metadata": {},
   "outputs": [
    {
     "data": {
      "text/plain": [
       "45"
      ]
     },
     "execution_count": 118,
     "metadata": {},
     "output_type": "execute_result"
    }
   ],
   "source": [
    "a.sum(axis=0)"
   ]
  },
  {
   "cell_type": "code",
   "execution_count": 119,
   "id": "3e841a1f",
   "metadata": {},
   "outputs": [
    {
     "data": {
      "text/plain": [
       "45"
      ]
     },
     "execution_count": 119,
     "metadata": {},
     "output_type": "execute_result"
    }
   ],
   "source": [
    "np.sum(a,axis=0)"
   ]
  },
  {
   "cell_type": "code",
   "execution_count": 120,
   "id": "bf4cf35b",
   "metadata": {},
   "outputs": [],
   "source": [
    "A = np.array([[2,3],[4,5]])"
   ]
  },
  {
   "cell_type": "code",
   "execution_count": 121,
   "id": "467e71ec",
   "metadata": {},
   "outputs": [
    {
     "data": {
      "text/plain": [
       "14"
      ]
     },
     "execution_count": 121,
     "metadata": {},
     "output_type": "execute_result"
    }
   ],
   "source": [
    "A.sum()"
   ]
  },
  {
   "cell_type": "code",
   "execution_count": 122,
   "id": "6956013a",
   "metadata": {},
   "outputs": [
    {
     "data": {
      "text/plain": [
       "array([6, 8])"
      ]
     },
     "execution_count": 122,
     "metadata": {},
     "output_type": "execute_result"
    }
   ],
   "source": [
    "A.sum(axis=0)"
   ]
  },
  {
   "cell_type": "code",
   "execution_count": 123,
   "id": "b15e5adf",
   "metadata": {},
   "outputs": [
    {
     "data": {
      "text/plain": [
       "array([5, 9])"
      ]
     },
     "execution_count": 123,
     "metadata": {},
     "output_type": "execute_result"
    }
   ],
   "source": [
    "A.sum(axis=1)"
   ]
  },
  {
   "cell_type": "code",
   "execution_count": 124,
   "id": "3026bda9",
   "metadata": {},
   "outputs": [],
   "source": [
    "C = np.array([[[1,2],[3,4]],\n",
    "             [[5,6],[7,8]]])"
   ]
  },
  {
   "cell_type": "code",
   "execution_count": 125,
   "id": "8e439fb8",
   "metadata": {},
   "outputs": [
    {
     "data": {
      "text/plain": [
       "3"
      ]
     },
     "execution_count": 125,
     "metadata": {},
     "output_type": "execute_result"
    }
   ],
   "source": [
    "C.ndim"
   ]
  },
  {
   "cell_type": "code",
   "execution_count": 126,
   "id": "cf308cea",
   "metadata": {},
   "outputs": [
    {
     "data": {
      "text/plain": [
       "(2, 2, 2)"
      ]
     },
     "execution_count": 126,
     "metadata": {},
     "output_type": "execute_result"
    }
   ],
   "source": [
    "C.shape"
   ]
  },
  {
   "cell_type": "code",
   "execution_count": 127,
   "id": "a4c395b5",
   "metadata": {},
   "outputs": [
    {
     "data": {
      "text/plain": [
       "array([[1, 2],\n",
       "       [3, 4]])"
      ]
     },
     "execution_count": 127,
     "metadata": {},
     "output_type": "execute_result"
    }
   ],
   "source": [
    "C[0]"
   ]
  },
  {
   "cell_type": "code",
   "execution_count": 128,
   "id": "d5a06d65",
   "metadata": {},
   "outputs": [
    {
     "data": {
      "text/plain": [
       "array([[5, 6],\n",
       "       [7, 8]])"
      ]
     },
     "execution_count": 128,
     "metadata": {},
     "output_type": "execute_result"
    }
   ],
   "source": [
    "C[1]"
   ]
  },
  {
   "cell_type": "code",
   "execution_count": 129,
   "id": "66cf7916",
   "metadata": {},
   "outputs": [
    {
     "data": {
      "text/plain": [
       "array([[ 6,  8],\n",
       "       [10, 12]])"
      ]
     },
     "execution_count": 129,
     "metadata": {},
     "output_type": "execute_result"
    }
   ],
   "source": [
    "C.sum(axis=0)"
   ]
  },
  {
   "cell_type": "code",
   "execution_count": 130,
   "id": "0b6cc681",
   "metadata": {},
   "outputs": [
    {
     "data": {
      "text/plain": [
       "array([[ 4,  6],\n",
       "       [12, 14]])"
      ]
     },
     "execution_count": 130,
     "metadata": {},
     "output_type": "execute_result"
    }
   ],
   "source": [
    "C.sum(axis=1)"
   ]
  },
  {
   "cell_type": "code",
   "execution_count": 131,
   "id": "732735b6",
   "metadata": {},
   "outputs": [
    {
     "data": {
      "text/plain": [
       "array([[ 3,  7],\n",
       "       [11, 15]])"
      ]
     },
     "execution_count": 131,
     "metadata": {},
     "output_type": "execute_result"
    }
   ],
   "source": [
    "C.sum(axis=2)"
   ]
  },
  {
   "cell_type": "code",
   "execution_count": 132,
   "id": "76a77232",
   "metadata": {},
   "outputs": [],
   "source": [
    "t = np.arange(3*4*2)"
   ]
  },
  {
   "cell_type": "code",
   "execution_count": 133,
   "id": "159b8df8",
   "metadata": {},
   "outputs": [
    {
     "data": {
      "text/plain": [
       "array([ 0,  1,  2,  3,  4,  5,  6,  7,  8,  9, 10, 11, 12, 13, 14, 15, 16,\n",
       "       17, 18, 19, 20, 21, 22, 23])"
      ]
     },
     "execution_count": 133,
     "metadata": {},
     "output_type": "execute_result"
    }
   ],
   "source": [
    "t"
   ]
  },
  {
   "cell_type": "code",
   "execution_count": 134,
   "id": "0f97ea8a",
   "metadata": {},
   "outputs": [],
   "source": [
    "t1 = np.reshape(t,(3,4,2))"
   ]
  },
  {
   "cell_type": "code",
   "execution_count": 135,
   "id": "2a50fdff",
   "metadata": {},
   "outputs": [
    {
     "data": {
      "text/plain": [
       "array([[[ 0,  1],\n",
       "        [ 2,  3],\n",
       "        [ 4,  5],\n",
       "        [ 6,  7]],\n",
       "\n",
       "       [[ 8,  9],\n",
       "        [10, 11],\n",
       "        [12, 13],\n",
       "        [14, 15]],\n",
       "\n",
       "       [[16, 17],\n",
       "        [18, 19],\n",
       "        [20, 21],\n",
       "        [22, 23]]])"
      ]
     },
     "execution_count": 135,
     "metadata": {},
     "output_type": "execute_result"
    }
   ],
   "source": [
    "t1"
   ]
  },
  {
   "cell_type": "code",
   "execution_count": 136,
   "id": "f76dcd31",
   "metadata": {},
   "outputs": [
    {
     "data": {
      "text/plain": [
       "(3, 4, 2)"
      ]
     },
     "execution_count": 136,
     "metadata": {},
     "output_type": "execute_result"
    }
   ],
   "source": [
    "t1.shape"
   ]
  },
  {
   "cell_type": "code",
   "execution_count": 138,
   "id": "760f88db",
   "metadata": {},
   "outputs": [],
   "source": [
    "t2 = t1.transpose(0,2,1)"
   ]
  },
  {
   "cell_type": "code",
   "execution_count": 139,
   "id": "bb1a02e4",
   "metadata": {},
   "outputs": [
    {
     "data": {
      "text/plain": [
       "(3, 2, 4)"
      ]
     },
     "execution_count": 139,
     "metadata": {},
     "output_type": "execute_result"
    }
   ],
   "source": [
    "t2.shape"
   ]
  },
  {
   "cell_type": "code",
   "execution_count": 140,
   "id": "2daa8eed",
   "metadata": {},
   "outputs": [
    {
     "data": {
      "text/plain": [
       "array([[[ 0,  2,  4,  6],\n",
       "        [ 1,  3,  5,  7]],\n",
       "\n",
       "       [[ 8, 10, 12, 14],\n",
       "        [ 9, 11, 13, 15]],\n",
       "\n",
       "       [[16, 18, 20, 22],\n",
       "        [17, 19, 21, 23]]])"
      ]
     },
     "execution_count": 140,
     "metadata": {},
     "output_type": "execute_result"
    }
   ],
   "source": [
    "t2"
   ]
  },
  {
   "cell_type": "code",
   "execution_count": 141,
   "id": "480f4e0b",
   "metadata": {},
   "outputs": [],
   "source": [
    "ra = np.ones((3,4,5,3))"
   ]
  },
  {
   "cell_type": "code",
   "execution_count": 142,
   "id": "50a98bb6",
   "metadata": {},
   "outputs": [
    {
     "data": {
      "text/plain": [
       "(3, 4, 5, 3)"
      ]
     },
     "execution_count": 142,
     "metadata": {},
     "output_type": "execute_result"
    }
   ],
   "source": [
    "ra.shape"
   ]
  },
  {
   "cell_type": "code",
   "execution_count": 143,
   "id": "cbdaef1d",
   "metadata": {},
   "outputs": [
    {
     "data": {
      "text/plain": [
       "3"
      ]
     },
     "execution_count": 143,
     "metadata": {},
     "output_type": "execute_result"
    }
   ],
   "source": [
    "ra.shape[3]"
   ]
  },
  {
   "cell_type": "code",
   "execution_count": 144,
   "id": "c087dcc8",
   "metadata": {},
   "outputs": [
    {
     "data": {
      "text/plain": [
       "(3, 3, 4, 5)"
      ]
     },
     "execution_count": 144,
     "metadata": {},
     "output_type": "execute_result"
    }
   ],
   "source": [
    "np.rollaxis(ra,3,1).shape"
   ]
  },
  {
   "cell_type": "code",
   "execution_count": 145,
   "id": "3d449443",
   "metadata": {},
   "outputs": [],
   "source": [
    "x = np.array([[1,2,3]])"
   ]
  },
  {
   "cell_type": "code",
   "execution_count": 146,
   "id": "8f97cad3",
   "metadata": {},
   "outputs": [
    {
     "data": {
      "text/plain": [
       "array([[1],\n",
       "       [2],\n",
       "       [3]])"
      ]
     },
     "execution_count": 146,
     "metadata": {},
     "output_type": "execute_result"
    }
   ],
   "source": [
    "x.T"
   ]
  },
  {
   "cell_type": "code",
   "execution_count": 147,
   "id": "fe9318ef",
   "metadata": {},
   "outputs": [
    {
     "data": {
      "text/plain": [
       "array([[1],\n",
       "       [2],\n",
       "       [3]])"
      ]
     },
     "execution_count": 147,
     "metadata": {},
     "output_type": "execute_result"
    }
   ],
   "source": [
    "np.swapaxes(x,0,1)"
   ]
  },
  {
   "cell_type": "code",
   "execution_count": 148,
   "id": "9f76e945",
   "metadata": {},
   "outputs": [
    {
     "data": {
      "text/plain": [
       "(3, 4, 5, 3)"
      ]
     },
     "execution_count": 148,
     "metadata": {},
     "output_type": "execute_result"
    }
   ],
   "source": [
    "ra.shape"
   ]
  },
  {
   "cell_type": "code",
   "execution_count": 149,
   "id": "b65304d1",
   "metadata": {},
   "outputs": [],
   "source": [
    "ra21 = np.swapaxes(ra,2,1)"
   ]
  },
  {
   "cell_type": "code",
   "execution_count": 150,
   "id": "6b85a98e",
   "metadata": {},
   "outputs": [
    {
     "data": {
      "text/plain": [
       "(3, 5, 4, 3)"
      ]
     },
     "execution_count": 150,
     "metadata": {},
     "output_type": "execute_result"
    }
   ],
   "source": [
    "ra21.shape"
   ]
  },
  {
   "cell_type": "code",
   "execution_count": 151,
   "id": "05dc899e",
   "metadata": {},
   "outputs": [],
   "source": [
    "x = np.array([1,2])"
   ]
  },
  {
   "cell_type": "code",
   "execution_count": 152,
   "id": "bd8fd876",
   "metadata": {},
   "outputs": [
    {
     "data": {
      "text/plain": [
       "array([1, 2])"
      ]
     },
     "execution_count": 152,
     "metadata": {},
     "output_type": "execute_result"
    }
   ],
   "source": [
    "x"
   ]
  },
  {
   "cell_type": "code",
   "execution_count": 154,
   "id": "a4b8ecfa",
   "metadata": {},
   "outputs": [],
   "source": [
    "y = np.expand_dims(x, axis=1)"
   ]
  },
  {
   "cell_type": "code",
   "execution_count": 155,
   "id": "b2029dd9",
   "metadata": {},
   "outputs": [
    {
     "data": {
      "text/plain": [
       "array([[1],\n",
       "       [2]])"
      ]
     },
     "execution_count": 155,
     "metadata": {},
     "output_type": "execute_result"
    }
   ],
   "source": [
    "y"
   ]
  },
  {
   "cell_type": "code",
   "execution_count": 156,
   "id": "ff8d81b7",
   "metadata": {},
   "outputs": [],
   "source": [
    "z = np.expand_dims(x,axis=0)"
   ]
  },
  {
   "cell_type": "code",
   "execution_count": 157,
   "id": "6fcc9e2c",
   "metadata": {},
   "outputs": [
    {
     "data": {
      "text/plain": [
       "array([[1, 2]])"
      ]
     },
     "execution_count": 157,
     "metadata": {},
     "output_type": "execute_result"
    }
   ],
   "source": [
    "z"
   ]
  },
  {
   "cell_type": "code",
   "execution_count": 158,
   "id": "91fa9962",
   "metadata": {},
   "outputs": [],
   "source": [
    "x = np.array([[1,4,5],[4,5,6],[7,8,9]])"
   ]
  },
  {
   "cell_type": "code",
   "execution_count": 159,
   "id": "4c46690a",
   "metadata": {},
   "outputs": [
    {
     "data": {
      "text/plain": [
       "array([[1, 4, 5],\n",
       "       [4, 5, 6],\n",
       "       [7, 8, 9]])"
      ]
     },
     "execution_count": 159,
     "metadata": {},
     "output_type": "execute_result"
    }
   ],
   "source": [
    "x"
   ]
  },
  {
   "cell_type": "code",
   "execution_count": 160,
   "id": "c6811d37",
   "metadata": {},
   "outputs": [
    {
     "data": {
      "text/plain": [
       "array([1, 4, 5, 4, 5, 6, 7, 8, 9])"
      ]
     },
     "execution_count": 160,
     "metadata": {},
     "output_type": "execute_result"
    }
   ],
   "source": [
    "x.flatten()"
   ]
  },
  {
   "cell_type": "code",
   "execution_count": 161,
   "id": "3ebd9886",
   "metadata": {},
   "outputs": [
    {
     "data": {
      "text/plain": [
       "array([1, 4, 5, 4, 5, 6, 7, 8, 9])"
      ]
     },
     "execution_count": 161,
     "metadata": {},
     "output_type": "execute_result"
    }
   ],
   "source": [
    "x.ravel()"
   ]
  },
  {
   "cell_type": "code",
   "execution_count": 162,
   "id": "0c1ef642",
   "metadata": {},
   "outputs": [
    {
     "data": {
      "text/plain": [
       "False"
      ]
     },
     "execution_count": 162,
     "metadata": {},
     "output_type": "execute_result"
    }
   ],
   "source": [
    "np.may_share_memory(x.flatten(),x)"
   ]
  },
  {
   "cell_type": "code",
   "execution_count": 163,
   "id": "e3b49c0f",
   "metadata": {},
   "outputs": [
    {
     "data": {
      "text/plain": [
       "True"
      ]
     },
     "execution_count": 163,
     "metadata": {},
     "output_type": "execute_result"
    }
   ],
   "source": [
    "np.may_share_memory(x.ravel(),x)"
   ]
  },
  {
   "cell_type": "code",
   "execution_count": 164,
   "id": "111326ec",
   "metadata": {},
   "outputs": [],
   "source": [
    "a = np.array([[1,2,3],[4,5,6],[7,8,8]])"
   ]
  },
  {
   "cell_type": "code",
   "execution_count": 165,
   "id": "1f82fd32",
   "metadata": {},
   "outputs": [
    {
     "data": {
      "text/plain": [
       "array([[1, 2, 3],\n",
       "       [4, 5, 6],\n",
       "       [7, 8, 8]])"
      ]
     },
     "execution_count": 165,
     "metadata": {},
     "output_type": "execute_result"
    }
   ],
   "source": [
    "a"
   ]
  },
  {
   "cell_type": "code",
   "execution_count": 166,
   "id": "2a8fdad6",
   "metadata": {},
   "outputs": [
    {
     "data": {
      "text/plain": [
       "(3, 3)"
      ]
     },
     "execution_count": 166,
     "metadata": {},
     "output_type": "execute_result"
    }
   ],
   "source": [
    "a.shape"
   ]
  },
  {
   "cell_type": "code",
   "execution_count": 167,
   "id": "b43b90e9",
   "metadata": {},
   "outputs": [
    {
     "data": {
      "text/plain": [
       "14"
      ]
     },
     "execution_count": 167,
     "metadata": {},
     "output_type": "execute_result"
    }
   ],
   "source": [
    "np.trace(a)"
   ]
  },
  {
   "cell_type": "code",
   "execution_count": 168,
   "id": "87625883",
   "metadata": {},
   "outputs": [
    {
     "data": {
      "text/plain": [
       "14"
      ]
     },
     "execution_count": 168,
     "metadata": {},
     "output_type": "execute_result"
    }
   ],
   "source": [
    "a.trace()"
   ]
  },
  {
   "cell_type": "code",
   "execution_count": 169,
   "id": "1bd69f0f",
   "metadata": {},
   "outputs": [],
   "source": [
    "b = np.array([[1,0,0], [0,3,0],[0,0,5]])"
   ]
  },
  {
   "cell_type": "code",
   "execution_count": 170,
   "id": "3e246bee",
   "metadata": {},
   "outputs": [
    {
     "data": {
      "text/plain": [
       "array([[1, 0, 0],\n",
       "       [0, 3, 0],\n",
       "       [0, 0, 5]])"
      ]
     },
     "execution_count": 170,
     "metadata": {},
     "output_type": "execute_result"
    }
   ],
   "source": [
    "b"
   ]
  },
  {
   "cell_type": "code",
   "execution_count": 172,
   "id": "da7308f2",
   "metadata": {},
   "outputs": [
    {
     "data": {
      "text/plain": [
       "array([1, 3, 5])"
      ]
     },
     "execution_count": 172,
     "metadata": {},
     "output_type": "execute_result"
    }
   ],
   "source": [
    "b.diagonal()"
   ]
  },
  {
   "cell_type": "code",
   "execution_count": 173,
   "id": "e57575fd",
   "metadata": {},
   "outputs": [
    {
     "data": {
      "text/plain": [
       "array([1, 3, 5])"
      ]
     },
     "execution_count": 173,
     "metadata": {},
     "output_type": "execute_result"
    }
   ],
   "source": [
    "np.diagonal(b)"
   ]
  },
  {
   "cell_type": "code",
   "execution_count": 174,
   "id": "39f1d601",
   "metadata": {},
   "outputs": [],
   "source": [
    "c = np.diag(np.arange(1,4))"
   ]
  },
  {
   "cell_type": "code",
   "execution_count": 175,
   "id": "52c54288",
   "metadata": {},
   "outputs": [
    {
     "data": {
      "text/plain": [
       "array([[1, 0, 0],\n",
       "       [0, 2, 0],\n",
       "       [0, 0, 3]])"
      ]
     },
     "execution_count": 175,
     "metadata": {},
     "output_type": "execute_result"
    }
   ],
   "source": [
    "c"
   ]
  },
  {
   "cell_type": "code",
   "execution_count": 176,
   "id": "c99b8ddc",
   "metadata": {},
   "outputs": [],
   "source": [
    "d = np.diag(np.arange(1,4),k=1)"
   ]
  },
  {
   "cell_type": "code",
   "execution_count": 177,
   "id": "84d7421a",
   "metadata": {},
   "outputs": [
    {
     "data": {
      "text/plain": [
       "array([[0, 1, 0, 0],\n",
       "       [0, 0, 2, 0],\n",
       "       [0, 0, 0, 3],\n",
       "       [0, 0, 0, 0]])"
      ]
     },
     "execution_count": 177,
     "metadata": {},
     "output_type": "execute_result"
    }
   ],
   "source": [
    "d"
   ]
  },
  {
   "cell_type": "code",
   "execution_count": 178,
   "id": "570c5fd8",
   "metadata": {},
   "outputs": [],
   "source": [
    "e = np.diag(np.arange(1,4), k=-1)"
   ]
  },
  {
   "cell_type": "code",
   "execution_count": 179,
   "id": "ab0536f2",
   "metadata": {},
   "outputs": [
    {
     "data": {
      "text/plain": [
       "array([[0, 0, 0, 0],\n",
       "       [1, 0, 0, 0],\n",
       "       [0, 2, 0, 0],\n",
       "       [0, 0, 3, 0]])"
      ]
     },
     "execution_count": 179,
     "metadata": {},
     "output_type": "execute_result"
    }
   ],
   "source": [
    "e"
   ]
  },
  {
   "cell_type": "code",
   "execution_count": 180,
   "id": "34931b55",
   "metadata": {},
   "outputs": [],
   "source": [
    "f = np.diag([[1,2],[3,4]])"
   ]
  },
  {
   "cell_type": "code",
   "execution_count": 181,
   "id": "711a911f",
   "metadata": {},
   "outputs": [
    {
     "data": {
      "text/plain": [
       "array([1, 4])"
      ]
     },
     "execution_count": 181,
     "metadata": {},
     "output_type": "execute_result"
    }
   ],
   "source": [
    "f"
   ]
  },
  {
   "cell_type": "code",
   "execution_count": 182,
   "id": "c48c4780",
   "metadata": {},
   "outputs": [],
   "source": [
    "g = np.diagonal([[1,2],[3,4]])"
   ]
  },
  {
   "cell_type": "code",
   "execution_count": 183,
   "id": "e6592261",
   "metadata": {},
   "outputs": [
    {
     "data": {
      "text/plain": [
       "array([1, 4])"
      ]
     },
     "execution_count": 183,
     "metadata": {},
     "output_type": "execute_result"
    }
   ],
   "source": [
    "g"
   ]
  },
  {
   "cell_type": "code",
   "execution_count": 184,
   "id": "869a3630",
   "metadata": {},
   "outputs": [],
   "source": [
    "h = np.eye(3,3)"
   ]
  },
  {
   "cell_type": "code",
   "execution_count": 185,
   "id": "f4f60122",
   "metadata": {},
   "outputs": [
    {
     "data": {
      "text/plain": [
       "array([[1., 0., 0.],\n",
       "       [0., 1., 0.],\n",
       "       [0., 0., 1.]])"
      ]
     },
     "execution_count": 185,
     "metadata": {},
     "output_type": "execute_result"
    }
   ],
   "source": [
    "h"
   ]
  },
  {
   "cell_type": "code",
   "execution_count": 187,
   "id": "088f2fc3",
   "metadata": {},
   "outputs": [],
   "source": [
    "i = np.eye(3,3,k= 1)"
   ]
  },
  {
   "cell_type": "code",
   "execution_count": 188,
   "id": "b3e406f8",
   "metadata": {},
   "outputs": [
    {
     "data": {
      "text/plain": [
       "array([[0., 1., 0.],\n",
       "       [0., 0., 1.],\n",
       "       [0., 0., 0.]])"
      ]
     },
     "execution_count": 188,
     "metadata": {},
     "output_type": "execute_result"
    }
   ],
   "source": [
    "i"
   ]
  },
  {
   "cell_type": "code",
   "execution_count": 189,
   "id": "bd6b7d09",
   "metadata": {},
   "outputs": [],
   "source": [
    "j = np.eye(3,3,k=-1)"
   ]
  },
  {
   "cell_type": "code",
   "execution_count": 190,
   "id": "7755583b",
   "metadata": {},
   "outputs": [
    {
     "data": {
      "text/plain": [
       "array([[0., 0., 0.],\n",
       "       [1., 0., 0.],\n",
       "       [0., 1., 0.]])"
      ]
     },
     "execution_count": 190,
     "metadata": {},
     "output_type": "execute_result"
    }
   ],
   "source": [
    "j"
   ]
  },
  {
   "cell_type": "code",
   "execution_count": 191,
   "id": "beda0f66",
   "metadata": {},
   "outputs": [],
   "source": [
    "k = np.diag([4,4,4])"
   ]
  },
  {
   "cell_type": "code",
   "execution_count": 192,
   "id": "17c71baf",
   "metadata": {},
   "outputs": [
    {
     "data": {
      "text/plain": [
       "array([[4, 0, 0],\n",
       "       [0, 4, 0],\n",
       "       [0, 0, 4]])"
      ]
     },
     "execution_count": 192,
     "metadata": {},
     "output_type": "execute_result"
    }
   ],
   "source": [
    "k"
   ]
  },
  {
   "cell_type": "code",
   "execution_count": 193,
   "id": "f00fc6b6",
   "metadata": {},
   "outputs": [
    {
     "data": {
      "text/plain": [
       "array([[1., 0., 0.],\n",
       "       [0., 1., 0.],\n",
       "       [0., 0., 1.]])"
      ]
     },
     "execution_count": 193,
     "metadata": {},
     "output_type": "execute_result"
    }
   ],
   "source": [
    "k*1/4"
   ]
  },
  {
   "cell_type": "code",
   "execution_count": 194,
   "id": "739482e9",
   "metadata": {},
   "outputs": [],
   "source": [
    "l = np.identity(3)"
   ]
  },
  {
   "cell_type": "code",
   "execution_count": 195,
   "id": "0904dcc5",
   "metadata": {},
   "outputs": [
    {
     "data": {
      "text/plain": [
       "array([[1., 0., 0.],\n",
       "       [0., 1., 0.],\n",
       "       [0., 0., 1.]])"
      ]
     },
     "execution_count": 195,
     "metadata": {},
     "output_type": "execute_result"
    }
   ],
   "source": [
    "l"
   ]
  },
  {
   "cell_type": "code",
   "execution_count": 196,
   "id": "36189196",
   "metadata": {},
   "outputs": [],
   "source": [
    "s = np.arange(1,10).reshape(3,3)"
   ]
  },
  {
   "cell_type": "code",
   "execution_count": 197,
   "id": "6c0c581d",
   "metadata": {},
   "outputs": [
    {
     "data": {
      "text/plain": [
       "array([[1, 2, 3],\n",
       "       [4, 5, 6],\n",
       "       [7, 8, 9]])"
      ]
     },
     "execution_count": 197,
     "metadata": {},
     "output_type": "execute_result"
    }
   ],
   "source": [
    "s"
   ]
  },
  {
   "cell_type": "code",
   "execution_count": 198,
   "id": "13ad38b2",
   "metadata": {},
   "outputs": [
    {
     "data": {
      "text/plain": [
       "array([[1, 2, 3],\n",
       "       [4, 5, 6],\n",
       "       [7, 8, 9]])"
      ]
     },
     "execution_count": 198,
     "metadata": {},
     "output_type": "execute_result"
    }
   ],
   "source": [
    "s.dot(1)"
   ]
  },
  {
   "cell_type": "code",
   "execution_count": 199,
   "id": "a19339c2",
   "metadata": {},
   "outputs": [],
   "source": [
    "a = np.arange(1,10).reshape(3,3)"
   ]
  },
  {
   "cell_type": "code",
   "execution_count": 200,
   "id": "442d24aa",
   "metadata": {},
   "outputs": [
    {
     "data": {
      "text/plain": [
       "array([[1, 2, 3],\n",
       "       [4, 5, 6],\n",
       "       [7, 8, 9]])"
      ]
     },
     "execution_count": 200,
     "metadata": {},
     "output_type": "execute_result"
    }
   ],
   "source": [
    "a"
   ]
  },
  {
   "cell_type": "code",
   "execution_count": 201,
   "id": "d442824d",
   "metadata": {},
   "outputs": [
    {
     "data": {
      "text/plain": [
       "array([[1, 0, 0],\n",
       "       [4, 5, 0],\n",
       "       [7, 8, 9]])"
      ]
     },
     "execution_count": 201,
     "metadata": {},
     "output_type": "execute_result"
    }
   ],
   "source": [
    "np.tril(a)"
   ]
  },
  {
   "cell_type": "code",
   "execution_count": 202,
   "id": "41fa65b0",
   "metadata": {},
   "outputs": [
    {
     "data": {
      "text/plain": [
       "array([[0, 0, 0],\n",
       "       [4, 0, 0],\n",
       "       [7, 8, 0]])"
      ]
     },
     "execution_count": 202,
     "metadata": {},
     "output_type": "execute_result"
    }
   ],
   "source": [
    "np.tril(a,k=-1)"
   ]
  },
  {
   "cell_type": "code",
   "execution_count": 203,
   "id": "bdddf874",
   "metadata": {},
   "outputs": [],
   "source": [
    "b = np.arange(1,10).reshape(3,3)"
   ]
  },
  {
   "cell_type": "code",
   "execution_count": 204,
   "id": "07998851",
   "metadata": {},
   "outputs": [
    {
     "data": {
      "text/plain": [
       "array([[1, 2, 3],\n",
       "       [4, 5, 6],\n",
       "       [7, 8, 9]])"
      ]
     },
     "execution_count": 204,
     "metadata": {},
     "output_type": "execute_result"
    }
   ],
   "source": [
    "b"
   ]
  },
  {
   "cell_type": "code",
   "execution_count": 206,
   "id": "f41dad7e",
   "metadata": {},
   "outputs": [
    {
     "data": {
      "text/plain": [
       "array([[1, 2, 3],\n",
       "       [0, 5, 6],\n",
       "       [0, 0, 9]])"
      ]
     },
     "execution_count": 206,
     "metadata": {},
     "output_type": "execute_result"
    }
   ],
   "source": [
    "np.triu(b)"
   ]
  },
  {
   "cell_type": "code",
   "execution_count": 207,
   "id": "6d1c1343",
   "metadata": {},
   "outputs": [
    {
     "data": {
      "text/plain": [
       "array([[0, 2, 3],\n",
       "       [0, 0, 6],\n",
       "       [0, 0, 0]])"
      ]
     },
     "execution_count": 207,
     "metadata": {},
     "output_type": "execute_result"
    }
   ],
   "source": [
    "np.triu(b,k=1)"
   ]
  },
  {
   "cell_type": "code",
   "execution_count": 208,
   "id": "6672ca49",
   "metadata": {},
   "outputs": [],
   "source": [
    "c = np.triu(b)"
   ]
  },
  {
   "cell_type": "code",
   "execution_count": 209,
   "id": "261517be",
   "metadata": {},
   "outputs": [
    {
     "data": {
      "text/plain": [
       "array([[1, 2, 3],\n",
       "       [0, 5, 6],\n",
       "       [0, 0, 9]])"
      ]
     },
     "execution_count": 209,
     "metadata": {},
     "output_type": "execute_result"
    }
   ],
   "source": [
    "c"
   ]
  },
  {
   "cell_type": "code",
   "execution_count": 210,
   "id": "d2c0f120",
   "metadata": {},
   "outputs": [
    {
     "data": {
      "text/plain": [
       "array([[1, 0, 0],\n",
       "       [2, 5, 0],\n",
       "       [3, 6, 9]])"
      ]
     },
     "execution_count": 210,
     "metadata": {},
     "output_type": "execute_result"
    }
   ],
   "source": [
    "c.T"
   ]
  },
  {
   "cell_type": "code",
   "execution_count": 211,
   "id": "368717df",
   "metadata": {},
   "outputs": [],
   "source": [
    "d = np.tril(b)"
   ]
  },
  {
   "cell_type": "code",
   "execution_count": 212,
   "id": "99800149",
   "metadata": {},
   "outputs": [
    {
     "data": {
      "text/plain": [
       "array([[1, 4, 7],\n",
       "       [0, 5, 8],\n",
       "       [0, 0, 9]])"
      ]
     },
     "execution_count": 212,
     "metadata": {},
     "output_type": "execute_result"
    }
   ],
   "source": [
    "d.T"
   ]
  },
  {
   "cell_type": "code",
   "execution_count": 213,
   "id": "7788edda",
   "metadata": {},
   "outputs": [
    {
     "data": {
      "text/plain": [
       "array([[ 1,  0,  0],\n",
       "       [16, 25,  0],\n",
       "       [49, 64, 81]])"
      ]
     },
     "execution_count": 213,
     "metadata": {},
     "output_type": "execute_result"
    }
   ],
   "source": [
    "d * d"
   ]
  },
  {
   "cell_type": "code",
   "execution_count": 214,
   "id": "89143a6b",
   "metadata": {},
   "outputs": [
    {
     "data": {
      "text/plain": [
       "array([[ 1,  4,  9],\n",
       "       [ 0, 25, 36],\n",
       "       [ 0,  0, 81]])"
      ]
     },
     "execution_count": 214,
     "metadata": {},
     "output_type": "execute_result"
    }
   ],
   "source": [
    "c*c"
   ]
  },
  {
   "cell_type": "code",
   "execution_count": 215,
   "id": "ed94ced7",
   "metadata": {},
   "outputs": [
    {
     "data": {
      "text/plain": [
       "array([[ 1,  0,  0],\n",
       "       [ 0, 25,  0],\n",
       "       [ 0,  0, 81]])"
      ]
     },
     "execution_count": 215,
     "metadata": {},
     "output_type": "execute_result"
    }
   ],
   "source": [
    "d*c"
   ]
  },
  {
   "cell_type": "code",
   "execution_count": 216,
   "id": "afd2ff47",
   "metadata": {},
   "outputs": [],
   "source": [
    "z = np.zeros((3,3))"
   ]
  },
  {
   "cell_type": "code",
   "execution_count": 217,
   "id": "b47c85e8",
   "metadata": {},
   "outputs": [
    {
     "data": {
      "text/plain": [
       "array([[0., 0., 0.],\n",
       "       [0., 0., 0.],\n",
       "       [0., 0., 0.]])"
      ]
     },
     "execution_count": 217,
     "metadata": {},
     "output_type": "execute_result"
    }
   ],
   "source": [
    "z"
   ]
  },
  {
   "cell_type": "code",
   "execution_count": 218,
   "id": "be2b20ae",
   "metadata": {},
   "outputs": [],
   "source": [
    "z0 = np.zeros(3)"
   ]
  },
  {
   "cell_type": "code",
   "execution_count": 219,
   "id": "a0322f27",
   "metadata": {},
   "outputs": [
    {
     "data": {
      "text/plain": [
       "array([0., 0., 0.])"
      ]
     },
     "execution_count": 219,
     "metadata": {},
     "output_type": "execute_result"
    }
   ],
   "source": [
    "z0"
   ]
  },
  {
   "cell_type": "code",
   "execution_count": 220,
   "id": "b7be85eb",
   "metadata": {},
   "outputs": [],
   "source": [
    "z1 = np.zeros_like(np.arange(1,10).reshape(3,3))"
   ]
  },
  {
   "cell_type": "code",
   "execution_count": 221,
   "id": "5055702d",
   "metadata": {},
   "outputs": [
    {
     "data": {
      "text/plain": [
       "array([[0, 0, 0],\n",
       "       [0, 0, 0],\n",
       "       [0, 0, 0]])"
      ]
     },
     "execution_count": 221,
     "metadata": {},
     "output_type": "execute_result"
    }
   ],
   "source": [
    "z1"
   ]
  },
  {
   "cell_type": "code",
   "execution_count": 222,
   "id": "2347429b",
   "metadata": {},
   "outputs": [],
   "source": [
    "e = np.empty(3)"
   ]
  },
  {
   "cell_type": "code",
   "execution_count": 223,
   "id": "7d965937",
   "metadata": {},
   "outputs": [
    {
     "data": {
      "text/plain": [
       "array([0., 0., 0.])"
      ]
     },
     "execution_count": 223,
     "metadata": {},
     "output_type": "execute_result"
    }
   ],
   "source": [
    "e"
   ]
  },
  {
   "cell_type": "code",
   "execution_count": 224,
   "id": "890660e2",
   "metadata": {},
   "outputs": [],
   "source": [
    "e33 = np.empty((3,3))"
   ]
  },
  {
   "cell_type": "code",
   "execution_count": 225,
   "id": "ef0d4d1d",
   "metadata": {},
   "outputs": [
    {
     "data": {
      "text/plain": [
       "array([[4.9e-324, 9.9e-324, 1.5e-323],\n",
       "       [2.0e-323, 2.5e-323, 3.0e-323],\n",
       "       [3.5e-323, 4.0e-323, 4.4e-323]])"
      ]
     },
     "execution_count": 225,
     "metadata": {},
     "output_type": "execute_result"
    }
   ],
   "source": [
    "e33"
   ]
  },
  {
   "cell_type": "code",
   "execution_count": 226,
   "id": "c942c663",
   "metadata": {},
   "outputs": [],
   "source": [
    "X = np.array([[1,2,3],[2,3,5],[3,5,6]])"
   ]
  },
  {
   "cell_type": "code",
   "execution_count": 227,
   "id": "1d6f0957",
   "metadata": {},
   "outputs": [
    {
     "data": {
      "text/plain": [
       "array([[1, 2, 3],\n",
       "       [2, 3, 5],\n",
       "       [3, 5, 6]])"
      ]
     },
     "execution_count": 227,
     "metadata": {},
     "output_type": "execute_result"
    }
   ],
   "source": [
    "X"
   ]
  },
  {
   "cell_type": "code",
   "execution_count": 228,
   "id": "20b05198",
   "metadata": {},
   "outputs": [
    {
     "data": {
      "text/plain": [
       "array([[1, 2, 3],\n",
       "       [2, 3, 5],\n",
       "       [3, 5, 6]])"
      ]
     },
     "execution_count": 228,
     "metadata": {},
     "output_type": "execute_result"
    }
   ],
   "source": [
    "X.T"
   ]
  },
  {
   "cell_type": "code",
   "execution_count": 229,
   "id": "2c2e6e7e",
   "metadata": {},
   "outputs": [
    {
     "data": {
      "text/plain": [
       "True"
      ]
     },
     "execution_count": 229,
     "metadata": {},
     "output_type": "execute_result"
    }
   ],
   "source": [
    "np.array_equal(X,X.T)"
   ]
  },
  {
   "cell_type": "code",
   "execution_count": 230,
   "id": "1c26b1ac",
   "metadata": {},
   "outputs": [
    {
     "data": {
      "text/plain": [
       "True"
      ]
     },
     "execution_count": 230,
     "metadata": {},
     "output_type": "execute_result"
    }
   ],
   "source": [
    "np.array_equiv(X,X.T)"
   ]
  },
  {
   "cell_type": "code",
   "execution_count": 231,
   "id": "90df5c1e",
   "metadata": {},
   "outputs": [
    {
     "data": {
      "text/plain": [
       "array([[ 2,  4,  6],\n",
       "       [ 4,  6, 10],\n",
       "       [ 6, 10, 12]])"
      ]
     },
     "execution_count": 231,
     "metadata": {},
     "output_type": "execute_result"
    }
   ],
   "source": [
    "X + X.T"
   ]
  },
  {
   "cell_type": "code",
   "execution_count": 232,
   "id": "99622bf2",
   "metadata": {},
   "outputs": [
    {
     "data": {
      "text/plain": [
       "array([[14, 23, 31],\n",
       "       [23, 38, 51],\n",
       "       [31, 51, 70]])"
      ]
     },
     "execution_count": 232,
     "metadata": {},
     "output_type": "execute_result"
    }
   ],
   "source": [
    "np.dot(X,X.T)"
   ]
  },
  {
   "cell_type": "code",
   "execution_count": 234,
   "id": "db7d9c73",
   "metadata": {},
   "outputs": [],
   "source": [
    "a = np.transpose(np.dot(X,X.T))"
   ]
  },
  {
   "cell_type": "code",
   "execution_count": 235,
   "id": "67957d99",
   "metadata": {},
   "outputs": [],
   "source": [
    "b = np.dot(X.T,X)"
   ]
  },
  {
   "cell_type": "code",
   "execution_count": 236,
   "id": "b839efae",
   "metadata": {},
   "outputs": [
    {
     "data": {
      "text/plain": [
       "array([[ True,  True,  True],\n",
       "       [ True,  True,  True],\n",
       "       [ True,  True,  True]])"
      ]
     },
     "execution_count": 236,
     "metadata": {},
     "output_type": "execute_result"
    }
   ],
   "source": [
    "a == b"
   ]
  },
  {
   "cell_type": "code",
   "execution_count": 237,
   "id": "dab96170",
   "metadata": {},
   "outputs": [],
   "source": [
    "Y = np.array([[0,2,-3],[-2,0,5],[3,-5,0]])"
   ]
  },
  {
   "cell_type": "code",
   "execution_count": 238,
   "id": "39129164",
   "metadata": {},
   "outputs": [
    {
     "data": {
      "text/plain": [
       "array([[ 0,  2, -3],\n",
       "       [-2,  0,  5],\n",
       "       [ 3, -5,  0]])"
      ]
     },
     "execution_count": 238,
     "metadata": {},
     "output_type": "execute_result"
    }
   ],
   "source": [
    "Y"
   ]
  },
  {
   "cell_type": "code",
   "execution_count": 239,
   "id": "add31273",
   "metadata": {},
   "outputs": [
    {
     "data": {
      "text/plain": [
       "array([[0, 0, 0],\n",
       "       [0, 0, 0],\n",
       "       [0, 0, 0]])"
      ]
     },
     "execution_count": 239,
     "metadata": {},
     "output_type": "execute_result"
    }
   ],
   "source": [
    "Y + Y.T"
   ]
  },
  {
   "cell_type": "code",
   "execution_count": 240,
   "id": "1ff8c657",
   "metadata": {},
   "outputs": [
    {
     "data": {
      "text/plain": [
       "array([[ True,  True,  True],\n",
       "       [ True,  True,  True],\n",
       "       [ True,  True,  True]])"
      ]
     },
     "execution_count": 240,
     "metadata": {},
     "output_type": "execute_result"
    }
   ],
   "source": [
    "Y.T == -Y"
   ]
  },
  {
   "cell_type": "code",
   "execution_count": 241,
   "id": "8e105cc3",
   "metadata": {},
   "outputs": [
    {
     "data": {
      "text/plain": [
       "array([[  0,   4,  -6],\n",
       "       [ -4,   0,  10],\n",
       "       [  6, -10,   0]])"
      ]
     },
     "execution_count": 241,
     "metadata": {},
     "output_type": "execute_result"
    }
   ],
   "source": [
    "Y - Y.T"
   ]
  },
  {
   "cell_type": "code",
   "execution_count": 242,
   "id": "0848898b",
   "metadata": {},
   "outputs": [
    {
     "data": {
      "text/plain": [
       "array([[ 13, -15, -10],\n",
       "       [-15,  29,  -6],\n",
       "       [-10,  -6,  34]])"
      ]
     },
     "execution_count": 242,
     "metadata": {},
     "output_type": "execute_result"
    }
   ],
   "source": [
    "np.dot(Y,Y.T)"
   ]
  },
  {
   "cell_type": "code",
   "execution_count": 243,
   "id": "ac4f64d9",
   "metadata": {},
   "outputs": [
    {
     "data": {
      "text/plain": [
       "array([[ 13, -15, -10],\n",
       "       [-15,  29,  -6],\n",
       "       [-10,  -6,  34]])"
      ]
     },
     "execution_count": 243,
     "metadata": {},
     "output_type": "execute_result"
    }
   ],
   "source": [
    "np.dot(Y.T,Y)"
   ]
  },
  {
   "cell_type": "code",
   "execution_count": 244,
   "id": "c243cb64",
   "metadata": {},
   "outputs": [],
   "source": [
    "a = np.arange(1,10).reshape(3,3)"
   ]
  },
  {
   "cell_type": "code",
   "execution_count": 245,
   "id": "a998ac67",
   "metadata": {},
   "outputs": [
    {
     "data": {
      "text/plain": [
       "array([[1, 2, 3],\n",
       "       [4, 5, 6],\n",
       "       [7, 8, 9]])"
      ]
     },
     "execution_count": 245,
     "metadata": {},
     "output_type": "execute_result"
    }
   ],
   "source": [
    "a"
   ]
  },
  {
   "cell_type": "code",
   "execution_count": 246,
   "id": "458726e2",
   "metadata": {},
   "outputs": [],
   "source": [
    "b = np.eye(3,dtype='int')"
   ]
  },
  {
   "cell_type": "code",
   "execution_count": 247,
   "id": "e1c5c7b0",
   "metadata": {},
   "outputs": [
    {
     "data": {
      "text/plain": [
       "array([[1, 0, 0],\n",
       "       [0, 1, 0],\n",
       "       [0, 0, 1]])"
      ]
     },
     "execution_count": 247,
     "metadata": {},
     "output_type": "execute_result"
    }
   ],
   "source": [
    "b"
   ]
  },
  {
   "cell_type": "code",
   "execution_count": 248,
   "id": "ef4a36ac",
   "metadata": {},
   "outputs": [],
   "source": [
    "c = np.array([[0,1,0],[1,0,0],[0,0,1]])"
   ]
  },
  {
   "cell_type": "code",
   "execution_count": 249,
   "id": "296ea4f8",
   "metadata": {},
   "outputs": [
    {
     "data": {
      "text/plain": [
       "array([[2, 1, 3],\n",
       "       [5, 4, 6],\n",
       "       [8, 7, 9]])"
      ]
     },
     "execution_count": 249,
     "metadata": {},
     "output_type": "execute_result"
    }
   ],
   "source": [
    "np.dot(a,c)"
   ]
  },
  {
   "cell_type": "code",
   "execution_count": 250,
   "id": "7ed6b7dd",
   "metadata": {},
   "outputs": [],
   "source": [
    "from scipy.stats import ortho_group"
   ]
  },
  {
   "cell_type": "code",
   "execution_count": 251,
   "id": "db88e31e",
   "metadata": {},
   "outputs": [],
   "source": [
    "x = ortho_group.rvs(3)"
   ]
  },
  {
   "cell_type": "code",
   "execution_count": 252,
   "id": "10ca3e78",
   "metadata": {},
   "outputs": [
    {
     "data": {
      "text/plain": [
       "array([[ 0.57257332,  0.43037788,  0.69780704],\n",
       "       [-0.79254282,  0.07270318,  0.60546686],\n",
       "       [-0.20984675,  0.89971614, -0.3827208 ]])"
      ]
     },
     "execution_count": 252,
     "metadata": {},
     "output_type": "execute_result"
    }
   ],
   "source": [
    "x"
   ]
  },
  {
   "cell_type": "code",
   "execution_count": 253,
   "id": "b745584d",
   "metadata": {},
   "outputs": [],
   "source": [
    "i3 = np.dot(x,x.T)"
   ]
  },
  {
   "cell_type": "code",
   "execution_count": 254,
   "id": "40658879",
   "metadata": {},
   "outputs": [
    {
     "data": {
      "text/plain": [
       "array([[ 1.00000000e+00,  3.27344201e-16, -2.15764832e-16],\n",
       "       [ 3.27344201e-16,  1.00000000e+00, -7.51430397e-17],\n",
       "       [-2.15764832e-16, -7.51430397e-17,  1.00000000e+00]])"
      ]
     },
     "execution_count": 254,
     "metadata": {},
     "output_type": "execute_result"
    }
   ],
   "source": [
    "i3"
   ]
  },
  {
   "cell_type": "code",
   "execution_count": 255,
   "id": "c4257c44",
   "metadata": {},
   "outputs": [],
   "source": [
    "c = np.eye(3)"
   ]
  },
  {
   "cell_type": "code",
   "execution_count": 257,
   "id": "c4589280",
   "metadata": {},
   "outputs": [
    {
     "data": {
      "text/plain": [
       "True"
      ]
     },
     "execution_count": 257,
     "metadata": {},
     "output_type": "execute_result"
    }
   ],
   "source": [
    "np.allclose(c,i3)"
   ]
  },
  {
   "cell_type": "code",
   "execution_count": 258,
   "id": "ec72db46",
   "metadata": {},
   "outputs": [
    {
     "data": {
      "text/plain": [
       "1.0000000000000007"
      ]
     },
     "execution_count": 258,
     "metadata": {},
     "output_type": "execute_result"
    }
   ],
   "source": [
    "np.fabs(np.linalg.det(x))"
   ]
  },
  {
   "cell_type": "code",
   "execution_count": 259,
   "id": "538e4cee",
   "metadata": {},
   "outputs": [],
   "source": [
    "a = np.array([[1,2],[3,4]])"
   ]
  },
  {
   "cell_type": "code",
   "execution_count": 260,
   "id": "6d26811f",
   "metadata": {},
   "outputs": [
    {
     "data": {
      "text/plain": [
       "array([[1, 2],\n",
       "       [3, 4]])"
      ]
     },
     "execution_count": 260,
     "metadata": {},
     "output_type": "execute_result"
    }
   ],
   "source": [
    "a"
   ]
  },
  {
   "cell_type": "code",
   "execution_count": 261,
   "id": "c162a5ab",
   "metadata": {},
   "outputs": [
    {
     "data": {
      "text/plain": [
       "array([[1, 3],\n",
       "       [2, 4]])"
      ]
     },
     "execution_count": 261,
     "metadata": {},
     "output_type": "execute_result"
    }
   ],
   "source": [
    "a.T"
   ]
  },
  {
   "cell_type": "code",
   "execution_count": 262,
   "id": "0e8c3306",
   "metadata": {},
   "outputs": [
    {
     "data": {
      "text/plain": [
       "array([[1, 3],\n",
       "       [2, 4]])"
      ]
     },
     "execution_count": 262,
     "metadata": {},
     "output_type": "execute_result"
    }
   ],
   "source": [
    "a.transpose()"
   ]
  },
  {
   "cell_type": "code",
   "execution_count": 263,
   "id": "4e4b1c91",
   "metadata": {},
   "outputs": [
    {
     "data": {
      "text/plain": [
       "array([[1, 3],\n",
       "       [2, 4]])"
      ]
     },
     "execution_count": 263,
     "metadata": {},
     "output_type": "execute_result"
    }
   ],
   "source": [
    "np.transpose(a)"
   ]
  },
  {
   "cell_type": "code",
   "execution_count": null,
   "id": "be167bd7",
   "metadata": {},
   "outputs": [],
   "source": []
  }
 ],
 "metadata": {
  "kernelspec": {
   "display_name": "ml",
   "language": "python",
   "name": "ml"
  },
  "language_info": {
   "codemirror_mode": {
    "name": "ipython",
    "version": 3
   },
   "file_extension": ".py",
   "mimetype": "text/x-python",
   "name": "python",
   "nbconvert_exporter": "python",
   "pygments_lexer": "ipython3",
   "version": "3.9.5"
  }
 },
 "nbformat": 4,
 "nbformat_minor": 5
}
