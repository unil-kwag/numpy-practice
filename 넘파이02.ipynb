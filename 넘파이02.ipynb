{
 "cells": [
  {
   "cell_type": "code",
   "execution_count": 1,
   "id": "5de93266",
   "metadata": {},
   "outputs": [],
   "source": [
    "import numpy as np"
   ]
  },
  {
   "cell_type": "code",
   "execution_count": 2,
   "id": "d0559d0e",
   "metadata": {},
   "outputs": [],
   "source": [
    "a = np.zeros((5,5), dtype=np.int_)"
   ]
  },
  {
   "cell_type": "code",
   "execution_count": 3,
   "id": "46eae0cb",
   "metadata": {},
   "outputs": [
    {
     "data": {
      "text/plain": [
       "(5, 5)"
      ]
     },
     "execution_count": 3,
     "metadata": {},
     "output_type": "execute_result"
    }
   ],
   "source": [
    "a.shape"
   ]
  },
  {
   "cell_type": "code",
   "execution_count": 4,
   "id": "062d69a3",
   "metadata": {},
   "outputs": [
    {
     "data": {
      "text/plain": [
       "array([[0, 0, 0, 0, 0],\n",
       "       [0, 0, 0, 0, 0],\n",
       "       [0, 0, 0, 0, 0],\n",
       "       [0, 0, 0, 0, 0],\n",
       "       [0, 0, 0, 0, 0]])"
      ]
     },
     "execution_count": 4,
     "metadata": {},
     "output_type": "execute_result"
    }
   ],
   "source": [
    "a"
   ]
  },
  {
   "cell_type": "code",
   "execution_count": 5,
   "id": "d7bd296b",
   "metadata": {},
   "outputs": [
    {
     "data": {
      "text/plain": [
       "array([[False, False, False, False, False],\n",
       "       [False, False, False, False, False],\n",
       "       [False, False, False, False, False],\n",
       "       [False, False, False, False, False],\n",
       "       [False, False, False, False, False]])"
      ]
     },
     "execution_count": 5,
     "metadata": {},
     "output_type": "execute_result"
    }
   ],
   "source": [
    "a != 0"
   ]
  },
  {
   "cell_type": "code",
   "execution_count": 6,
   "id": "a8cbbc8f",
   "metadata": {},
   "outputs": [
    {
     "data": {
      "text/plain": [
       "False"
      ]
     },
     "execution_count": 6,
     "metadata": {},
     "output_type": "execute_result"
    }
   ],
   "source": [
    "(a != 0).any()"
   ]
  },
  {
   "cell_type": "code",
   "execution_count": 7,
   "id": "281e131f",
   "metadata": {},
   "outputs": [
    {
     "data": {
      "text/plain": [
       "False"
      ]
     },
     "execution_count": 7,
     "metadata": {},
     "output_type": "execute_result"
    }
   ],
   "source": [
    "np.any(a !=0)"
   ]
  },
  {
   "cell_type": "code",
   "execution_count": 8,
   "id": "6b993b59",
   "metadata": {},
   "outputs": [
    {
     "data": {
      "text/plain": [
       "<function ndarray.any>"
      ]
     },
     "execution_count": 8,
     "metadata": {},
     "output_type": "execute_result"
    }
   ],
   "source": [
    "(a != 0).any"
   ]
  },
  {
   "cell_type": "code",
   "execution_count": 9,
   "id": "1a41e093",
   "metadata": {},
   "outputs": [
    {
     "data": {
      "text/plain": [
       "<function numpy.any(a, axis=None, out=None, keepdims=<no value>)>"
      ]
     },
     "execution_count": 9,
     "metadata": {},
     "output_type": "execute_result"
    }
   ],
   "source": [
    "np.any"
   ]
  },
  {
   "cell_type": "code",
   "execution_count": 10,
   "id": "39103cef",
   "metadata": {},
   "outputs": [
    {
     "data": {
      "text/plain": [
       "False"
      ]
     },
     "execution_count": 10,
     "metadata": {},
     "output_type": "execute_result"
    }
   ],
   "source": [
    "np.ndarray.any is np.core.fromnumeric.any"
   ]
  },
  {
   "cell_type": "code",
   "execution_count": 11,
   "id": "c9696ac8",
   "metadata": {},
   "outputs": [
    {
     "name": "stdout",
     "output_type": "stream",
     "text": [
      "Help on method_descriptor:\n",
      "\n",
      "any(...)\n",
      "    a.any(axis=None, out=None, keepdims=False)\n",
      "    \n",
      "    Returns True if any of the elements of `a` evaluate to True.\n",
      "    \n",
      "    Refer to `numpy.any` for full documentation.\n",
      "    \n",
      "    See Also\n",
      "    --------\n",
      "    numpy.any : equivalent function\n",
      "\n"
     ]
    }
   ],
   "source": [
    "help(np.ndarray.any)"
   ]
  },
  {
   "cell_type": "code",
   "execution_count": 12,
   "id": "771966f5",
   "metadata": {},
   "outputs": [
    {
     "name": "stdout",
     "output_type": "stream",
     "text": [
      "Help on built-in function any:\n",
      "\n",
      "any(...) method of numpy.ndarray instance\n",
      "    a.any(axis=None, out=None, keepdims=False)\n",
      "    \n",
      "    Returns True if any of the elements of `a` evaluate to True.\n",
      "    \n",
      "    Refer to `numpy.any` for full documentation.\n",
      "    \n",
      "    See Also\n",
      "    --------\n",
      "    numpy.any : equivalent function\n",
      "\n"
     ]
    }
   ],
   "source": [
    "help(a.any)"
   ]
  },
  {
   "cell_type": "code",
   "execution_count": 13,
   "id": "67b2f08d",
   "metadata": {},
   "outputs": [],
   "source": [
    "np_ = set(dir(np))"
   ]
  },
  {
   "cell_type": "code",
   "execution_count": 14,
   "id": "029ff09e",
   "metadata": {},
   "outputs": [],
   "source": [
    "nd_ = set(dir(np.ndarray))"
   ]
  },
  {
   "cell_type": "code",
   "execution_count": 16,
   "id": "c38a7820",
   "metadata": {},
   "outputs": [],
   "source": [
    "npd_ =np_ & nd_"
   ]
  },
  {
   "cell_type": "code",
   "execution_count": 17,
   "id": "11387570",
   "metadata": {},
   "outputs": [
    {
     "data": {
      "text/plain": [
       "48"
      ]
     },
     "execution_count": 17,
     "metadata": {},
     "output_type": "execute_result"
    }
   ],
   "source": [
    "len(npd_)"
   ]
  },
  {
   "cell_type": "code",
   "execution_count": 18,
   "id": "7f033cb0",
   "metadata": {},
   "outputs": [
    {
     "name": "stdout",
     "output_type": "stream",
     "text": [
      "nbytes nonzero size __doc__ argsort \n",
      "cumprod real squeeze transpose copy \n",
      "mean sort searchsorted resize argmin \n",
      "dot ndim argmax clip shape \n",
      "conjugate diagonal dtype compress trace \n",
      "ravel all conj __dir__ any \n",
      "max sum swapaxes reshape round \n",
      "take var partition cumsum argpartition \n",
      "ptp imag prod min put \n",
      "choose repeat std "
     ]
    }
   ],
   "source": [
    "count = 0\n",
    "for i in list(npd_):\n",
    "    count +=1\n",
    "    print(i, end=\" \")\n",
    "    if count % 5 == 0:\n",
    "        print()"
   ]
  },
  {
   "cell_type": "code",
   "execution_count": 19,
   "id": "3c0be503",
   "metadata": {},
   "outputs": [],
   "source": [
    "a = dir(np)"
   ]
  },
  {
   "cell_type": "code",
   "execution_count": 20,
   "id": "7bf2e787",
   "metadata": {},
   "outputs": [
    {
     "data": {
      "text/plain": [
       "numpy.ufunc"
      ]
     },
     "execution_count": 20,
     "metadata": {},
     "output_type": "execute_result"
    }
   ],
   "source": [
    "np.ufunc"
   ]
  },
  {
   "cell_type": "code",
   "execution_count": 21,
   "id": "6f00c744",
   "metadata": {},
   "outputs": [
    {
     "name": "stdout",
     "output_type": "stream",
     "text": [
      "abs absolute add arccos arccosh \n",
      "arcsin arcsinh arctan arctan2 arctanh \n",
      "bitwise_and bitwise_not bitwise_or bitwise_xor cbrt \n",
      "ceil conj conjugate copysign cos \n",
      "cosh deg2rad degrees divide divmod \n",
      "equal exp exp2 expm1 fabs \n",
      "float_power floor floor_divide fmax fmin \n",
      "fmod frexp gcd greater greater_equal \n",
      "heaviside hypot invert isfinite isinf \n",
      "isnan isnat lcm ldexp left_shift \n",
      "less less_equal log log10 log1p \n",
      "log2 logaddexp logaddexp2 logical_and logical_not \n",
      "logical_or logical_xor matmul maximum minimum \n",
      "mod modf multiply negative nextafter \n",
      "not_equal positive power rad2deg radians \n",
      "reciprocal remainder right_shift rint sign \n",
      "signbit sin sinh spacing sqrt \n",
      "square subtract tan tanh "
     ]
    },
    {
     "ename": "KeyError",
     "evalue": "'testing'",
     "output_type": "error",
     "traceback": [
      "\u001b[0;31m---------------------------------------------------------------------------\u001b[0m",
      "\u001b[0;31mKeyError\u001b[0m                                  Traceback (most recent call last)",
      "\u001b[0;32m<ipython-input-21-bab5db880ea2>\u001b[0m in \u001b[0;36m<module>\u001b[0;34m\u001b[0m\n\u001b[1;32m      3\u001b[0m     \u001b[0;32mif\u001b[0m \u001b[0mi\u001b[0m \u001b[0;34m==\u001b[0m \u001b[0;34m\"Tester\"\u001b[0m\u001b[0;34m:\u001b[0m\u001b[0;34m\u001b[0m\u001b[0;34m\u001b[0m\u001b[0m\n\u001b[1;32m      4\u001b[0m         \u001b[0;32mcontinue\u001b[0m\u001b[0;34m\u001b[0m\u001b[0;34m\u001b[0m\u001b[0m\n\u001b[0;32m----> 5\u001b[0;31m     \u001b[0;32mif\u001b[0m \u001b[0mtype\u001b[0m\u001b[0;34m(\u001b[0m\u001b[0mnp\u001b[0m\u001b[0;34m.\u001b[0m\u001b[0m__dict__\u001b[0m\u001b[0;34m[\u001b[0m\u001b[0mi\u001b[0m\u001b[0;34m]\u001b[0m\u001b[0;34m)\u001b[0m \u001b[0;34m==\u001b[0m\u001b[0mnp\u001b[0m\u001b[0;34m.\u001b[0m\u001b[0mufunc\u001b[0m  \u001b[0;34m:\u001b[0m\u001b[0;34m\u001b[0m\u001b[0;34m\u001b[0m\u001b[0m\n\u001b[0m\u001b[1;32m      6\u001b[0m         \u001b[0mprint\u001b[0m\u001b[0;34m(\u001b[0m\u001b[0mi\u001b[0m\u001b[0;34m,\u001b[0m \u001b[0mend\u001b[0m\u001b[0;34m=\u001b[0m\u001b[0;34m\" \"\u001b[0m\u001b[0;34m)\u001b[0m\u001b[0;34m\u001b[0m\u001b[0;34m\u001b[0m\u001b[0m\n\u001b[1;32m      7\u001b[0m         \u001b[0mcount\u001b[0m \u001b[0;34m+=\u001b[0m \u001b[0;36m1\u001b[0m\u001b[0;34m\u001b[0m\u001b[0;34m\u001b[0m\u001b[0m\n",
      "\u001b[0;31mKeyError\u001b[0m: 'testing'"
     ]
    }
   ],
   "source": [
    "count = 0\n",
    "for i in a :\n",
    "    if i == \"Tester\":\n",
    "        continue\n",
    "    if type(np.__dict__[i]) ==np.ufunc  :\n",
    "        print(i, end=\" \")\n",
    "        count += 1\n",
    "        if count % 5 == 0:\n",
    "            print()"
   ]
  },
  {
   "cell_type": "code",
   "execution_count": 22,
   "id": "426cf4d7",
   "metadata": {},
   "outputs": [],
   "source": [
    "import types"
   ]
  },
  {
   "cell_type": "code",
   "execution_count": 23,
   "id": "2a464b48",
   "metadata": {},
   "outputs": [
    {
     "ename": "SyntaxError",
     "evalue": "invalid syntax (<ipython-input-23-c7f7160058cf>, line 6)",
     "output_type": "error",
     "traceback": [
      "\u001b[0;36m  File \u001b[0;32m\"<ipython-input-23-c7f7160058cf>\"\u001b[0;36m, line \u001b[0;32m6\u001b[0m\n\u001b[0;31m    count += 1    ) == types.FunctionType  :\u001b[0m\n\u001b[0m    ^\u001b[0m\n\u001b[0;31mSyntaxError\u001b[0m\u001b[0;31m:\u001b[0m invalid syntax\n"
     ]
    }
   ],
   "source": [
    "count = 0\n",
    "for i in a :\n",
    "    if i == \"Tester\" :\n",
    "        continue\n",
    "    if type(np.__dict__[i]\n",
    "           count += 1    ) == types.FunctionType  :\n",
    "    print(count)"
   ]
  },
  {
   "cell_type": "code",
   "execution_count": 24,
   "id": "c50695d7",
   "metadata": {},
   "outputs": [
    {
     "data": {
      "text/plain": [
       "numpy.ufunc"
      ]
     },
     "execution_count": 24,
     "metadata": {},
     "output_type": "execute_result"
    }
   ],
   "source": [
    "type(np.add)"
   ]
  },
  {
   "cell_type": "code",
   "execution_count": 25,
   "id": "8e2209dc",
   "metadata": {},
   "outputs": [
    {
     "data": {
      "text/plain": [
       "function"
      ]
     },
     "execution_count": 25,
     "metadata": {},
     "output_type": "execute_result"
    }
   ],
   "source": [
    "type(np.sort)"
   ]
  },
  {
   "cell_type": "code",
   "execution_count": 26,
   "id": "3d51a1d2",
   "metadata": {},
   "outputs": [
    {
     "data": {
      "text/plain": [
       "{'accumulate',\n",
       " 'at',\n",
       " 'identity',\n",
       " 'nargs',\n",
       " 'nin',\n",
       " 'nout',\n",
       " 'ntypes',\n",
       " 'outer',\n",
       " 'reduce',\n",
       " 'reduceat',\n",
       " 'signature',\n",
       " 'types'}"
      ]
     },
     "execution_count": 26,
     "metadata": {},
     "output_type": "execute_result"
    }
   ],
   "source": [
    "set(dir(np.add)) - set(dir(np.sort))"
   ]
  },
  {
   "cell_type": "code",
   "execution_count": 27,
   "id": "da773e5e",
   "metadata": {},
   "outputs": [],
   "source": [
    "a = np.array([1,2,3,4])"
   ]
  },
  {
   "cell_type": "code",
   "execution_count": 28,
   "id": "7daeae93",
   "metadata": {},
   "outputs": [
    {
     "data": {
      "text/plain": [
       "array([2, 4, 6, 8])"
      ]
     },
     "execution_count": 28,
     "metadata": {},
     "output_type": "execute_result"
    }
   ],
   "source": [
    "np.add(a,a)"
   ]
  },
  {
   "cell_type": "code",
   "execution_count": 29,
   "id": "2b640e14",
   "metadata": {},
   "outputs": [
    {
     "data": {
      "text/plain": [
       "array([ 1,  3,  6, 10])"
      ]
     },
     "execution_count": 29,
     "metadata": {},
     "output_type": "execute_result"
    }
   ],
   "source": [
    "np.add.accumulate(a)"
   ]
  },
  {
   "cell_type": "code",
   "execution_count": 30,
   "id": "8f285ef6",
   "metadata": {},
   "outputs": [],
   "source": [
    "a = np.arange(6,10)"
   ]
  },
  {
   "cell_type": "code",
   "execution_count": 31,
   "id": "17ee8df5",
   "metadata": {},
   "outputs": [
    {
     "data": {
      "text/plain": [
       "array([6, 7, 8, 9])"
      ]
     },
     "execution_count": 31,
     "metadata": {},
     "output_type": "execute_result"
    }
   ],
   "source": [
    "a"
   ]
  },
  {
   "cell_type": "code",
   "execution_count": 33,
   "id": "45c6b049",
   "metadata": {},
   "outputs": [],
   "source": [
    "b = np.arange(10,14)"
   ]
  },
  {
   "cell_type": "code",
   "execution_count": 34,
   "id": "312820fe",
   "metadata": {},
   "outputs": [
    {
     "data": {
      "text/plain": [
       "array([10, 11, 12, 13])"
      ]
     },
     "execution_count": 34,
     "metadata": {},
     "output_type": "execute_result"
    }
   ],
   "source": [
    "b"
   ]
  },
  {
   "cell_type": "code",
   "execution_count": 35,
   "id": "fd0a4cca",
   "metadata": {},
   "outputs": [],
   "source": [
    "c = a* b"
   ]
  },
  {
   "cell_type": "code",
   "execution_count": 36,
   "id": "3126b7b3",
   "metadata": {},
   "outputs": [
    {
     "data": {
      "text/plain": [
       "array([ 60,  77,  96, 117])"
      ]
     },
     "execution_count": 36,
     "metadata": {},
     "output_type": "execute_result"
    }
   ],
   "source": [
    "c"
   ]
  },
  {
   "cell_type": "code",
   "execution_count": 37,
   "id": "8e73f94a",
   "metadata": {},
   "outputs": [],
   "source": [
    "d = a[:, np.newaxis]"
   ]
  },
  {
   "cell_type": "code",
   "execution_count": 38,
   "id": "c9514d48",
   "metadata": {},
   "outputs": [
    {
     "data": {
      "text/plain": [
       "array([[6],\n",
       "       [7],\n",
       "       [8],\n",
       "       [9]])"
      ]
     },
     "execution_count": 38,
     "metadata": {},
     "output_type": "execute_result"
    }
   ],
   "source": [
    "d"
   ]
  },
  {
   "cell_type": "code",
   "execution_count": 39,
   "id": "ed9ff177",
   "metadata": {},
   "outputs": [
    {
     "data": {
      "text/plain": [
       "(4, 1)"
      ]
     },
     "execution_count": 39,
     "metadata": {},
     "output_type": "execute_result"
    }
   ],
   "source": [
    "d.shape"
   ]
  },
  {
   "cell_type": "code",
   "execution_count": 40,
   "id": "ab748593",
   "metadata": {},
   "outputs": [],
   "source": [
    "e = b[np.newaxis,:]"
   ]
  },
  {
   "cell_type": "code",
   "execution_count": 41,
   "id": "5c6cdeb9",
   "metadata": {},
   "outputs": [
    {
     "data": {
      "text/plain": [
       "array([[10, 11, 12, 13]])"
      ]
     },
     "execution_count": 41,
     "metadata": {},
     "output_type": "execute_result"
    }
   ],
   "source": [
    "e"
   ]
  },
  {
   "cell_type": "code",
   "execution_count": 42,
   "id": "1a2e7d7e",
   "metadata": {},
   "outputs": [
    {
     "data": {
      "text/plain": [
       "(1, 4)"
      ]
     },
     "execution_count": 42,
     "metadata": {},
     "output_type": "execute_result"
    }
   ],
   "source": [
    "e.shape"
   ]
  },
  {
   "cell_type": "code",
   "execution_count": 43,
   "id": "437ff821",
   "metadata": {},
   "outputs": [],
   "source": [
    "f = d @ e"
   ]
  },
  {
   "cell_type": "code",
   "execution_count": 44,
   "id": "4cb959ee",
   "metadata": {},
   "outputs": [
    {
     "data": {
      "text/plain": [
       "array([[ 60,  66,  72,  78],\n",
       "       [ 70,  77,  84,  91],\n",
       "       [ 80,  88,  96, 104],\n",
       "       [ 90,  99, 108, 117]])"
      ]
     },
     "execution_count": 44,
     "metadata": {},
     "output_type": "execute_result"
    }
   ],
   "source": [
    "f"
   ]
  },
  {
   "cell_type": "code",
   "execution_count": 45,
   "id": "c6b51f91",
   "metadata": {},
   "outputs": [],
   "source": [
    "a2 = np.array([1,2,3,4])"
   ]
  },
  {
   "cell_type": "code",
   "execution_count": 46,
   "id": "99a72bd5",
   "metadata": {},
   "outputs": [
    {
     "data": {
      "text/plain": [
       "array([1, 2, 3, 4])"
      ]
     },
     "execution_count": 46,
     "metadata": {},
     "output_type": "execute_result"
    }
   ],
   "source": [
    "a2"
   ]
  },
  {
   "cell_type": "code",
   "execution_count": 47,
   "id": "965abf18",
   "metadata": {},
   "outputs": [],
   "source": [
    "a2 = a2.reshape(2,2)"
   ]
  },
  {
   "cell_type": "code",
   "execution_count": 48,
   "id": "190f818c",
   "metadata": {},
   "outputs": [
    {
     "data": {
      "text/plain": [
       "array([[1, 2],\n",
       "       [3, 4]])"
      ]
     },
     "execution_count": 48,
     "metadata": {},
     "output_type": "execute_result"
    }
   ],
   "source": [
    "a2"
   ]
  },
  {
   "cell_type": "code",
   "execution_count": 49,
   "id": "2c4656b7",
   "metadata": {},
   "outputs": [
    {
     "data": {
      "text/plain": [
       "10"
      ]
     },
     "execution_count": 49,
     "metadata": {},
     "output_type": "execute_result"
    }
   ],
   "source": [
    "np.sum(a2)"
   ]
  },
  {
   "cell_type": "code",
   "execution_count": 50,
   "id": "ae6f7416",
   "metadata": {},
   "outputs": [
    {
     "data": {
      "text/plain": [
       "array([4, 6])"
      ]
     },
     "execution_count": 50,
     "metadata": {},
     "output_type": "execute_result"
    }
   ],
   "source": [
    "np.sum(a2, axis=0)"
   ]
  },
  {
   "cell_type": "code",
   "execution_count": 51,
   "id": "9aa26c68",
   "metadata": {},
   "outputs": [
    {
     "data": {
      "text/plain": [
       "array([3, 7])"
      ]
     },
     "execution_count": 51,
     "metadata": {},
     "output_type": "execute_result"
    }
   ],
   "source": [
    "np.sum(a2,axis=1)"
   ]
  },
  {
   "cell_type": "code",
   "execution_count": 52,
   "id": "a54819ae",
   "metadata": {},
   "outputs": [],
   "source": [
    "a3 = np.arange(1,9)"
   ]
  },
  {
   "cell_type": "code",
   "execution_count": 53,
   "id": "c5068b5e",
   "metadata": {},
   "outputs": [
    {
     "data": {
      "text/plain": [
       "array([1, 2, 3, 4, 5, 6, 7, 8])"
      ]
     },
     "execution_count": 53,
     "metadata": {},
     "output_type": "execute_result"
    }
   ],
   "source": [
    "a3"
   ]
  },
  {
   "cell_type": "code",
   "execution_count": 54,
   "id": "b7a50031",
   "metadata": {},
   "outputs": [],
   "source": [
    "a3 = a3.reshape(2,2,2)"
   ]
  },
  {
   "cell_type": "code",
   "execution_count": 56,
   "id": "1b2f9946",
   "metadata": {},
   "outputs": [
    {
     "data": {
      "text/plain": [
       "array([[[1, 2],\n",
       "        [3, 4]],\n",
       "\n",
       "       [[5, 6],\n",
       "        [7, 8]]])"
      ]
     },
     "execution_count": 56,
     "metadata": {},
     "output_type": "execute_result"
    }
   ],
   "source": [
    "a3"
   ]
  },
  {
   "cell_type": "code",
   "execution_count": 57,
   "id": "dbfede6f",
   "metadata": {},
   "outputs": [
    {
     "data": {
      "text/plain": [
       "(2, 2, 2)"
      ]
     },
     "execution_count": 57,
     "metadata": {},
     "output_type": "execute_result"
    }
   ],
   "source": [
    "a3.shape"
   ]
  },
  {
   "cell_type": "code",
   "execution_count": 58,
   "id": "5a477d38",
   "metadata": {},
   "outputs": [
    {
     "data": {
      "text/plain": [
       "array([[1, 2],\n",
       "       [3, 4]])"
      ]
     },
     "execution_count": 58,
     "metadata": {},
     "output_type": "execute_result"
    }
   ],
   "source": [
    "a3[0]"
   ]
  },
  {
   "cell_type": "code",
   "execution_count": 59,
   "id": "b2ae81b8",
   "metadata": {},
   "outputs": [
    {
     "data": {
      "text/plain": [
       "array([[5, 6],\n",
       "       [7, 8]])"
      ]
     },
     "execution_count": 59,
     "metadata": {},
     "output_type": "execute_result"
    }
   ],
   "source": [
    "a3[1]"
   ]
  },
  {
   "cell_type": "code",
   "execution_count": 60,
   "id": "c6a6663a",
   "metadata": {},
   "outputs": [
    {
     "data": {
      "text/plain": [
       "36"
      ]
     },
     "execution_count": 60,
     "metadata": {},
     "output_type": "execute_result"
    }
   ],
   "source": [
    "np.sum(a3)"
   ]
  },
  {
   "cell_type": "code",
   "execution_count": 61,
   "id": "f33128ac",
   "metadata": {},
   "outputs": [
    {
     "data": {
      "text/plain": [
       "array([[ 6,  8],\n",
       "       [10, 12]])"
      ]
     },
     "execution_count": 61,
     "metadata": {},
     "output_type": "execute_result"
    }
   ],
   "source": [
    "np.sum(a3, axis=0)"
   ]
  },
  {
   "cell_type": "code",
   "execution_count": 62,
   "id": "b1d9e9b0",
   "metadata": {},
   "outputs": [
    {
     "data": {
      "text/plain": [
       "array([[ 4,  6],\n",
       "       [12, 14]])"
      ]
     },
     "execution_count": 62,
     "metadata": {},
     "output_type": "execute_result"
    }
   ],
   "source": [
    "np.sum(a3, axis=1)"
   ]
  },
  {
   "cell_type": "code",
   "execution_count": 63,
   "id": "b7021e32",
   "metadata": {},
   "outputs": [
    {
     "data": {
      "text/plain": [
       "array([[ 3,  7],\n",
       "       [11, 15]])"
      ]
     },
     "execution_count": 63,
     "metadata": {},
     "output_type": "execute_result"
    }
   ],
   "source": [
    "np.sum(a3, axis=2)"
   ]
  },
  {
   "cell_type": "code",
   "execution_count": 64,
   "id": "22e79a4f",
   "metadata": {},
   "outputs": [],
   "source": [
    "a = np.array([4,5])"
   ]
  },
  {
   "cell_type": "code",
   "execution_count": 65,
   "id": "1a3026e5",
   "metadata": {},
   "outputs": [
    {
     "data": {
      "text/plain": [
       "(2,)"
      ]
     },
     "execution_count": 65,
     "metadata": {},
     "output_type": "execute_result"
    }
   ],
   "source": [
    "a.shape"
   ]
  },
  {
   "cell_type": "code",
   "execution_count": 69,
   "id": "93ccc5f6",
   "metadata": {},
   "outputs": [
    {
     "data": {
      "text/plain": [
       "array([4, 5])"
      ]
     },
     "execution_count": 69,
     "metadata": {},
     "output_type": "execute_result"
    }
   ],
   "source": [
    "a"
   ]
  },
  {
   "cell_type": "code",
   "execution_count": 66,
   "id": "082f5176",
   "metadata": {},
   "outputs": [],
   "source": [
    "b = np.array([3,4,6])"
   ]
  },
  {
   "cell_type": "code",
   "execution_count": 67,
   "id": "30ae5a1b",
   "metadata": {},
   "outputs": [
    {
     "data": {
      "text/plain": [
       "(3,)"
      ]
     },
     "execution_count": 67,
     "metadata": {},
     "output_type": "execute_result"
    }
   ],
   "source": [
    "b.shape"
   ]
  },
  {
   "cell_type": "code",
   "execution_count": 68,
   "id": "62017115",
   "metadata": {},
   "outputs": [
    {
     "data": {
      "text/plain": [
       "array([3, 4, 6])"
      ]
     },
     "execution_count": 68,
     "metadata": {},
     "output_type": "execute_result"
    }
   ],
   "source": [
    "b"
   ]
  },
  {
   "cell_type": "code",
   "execution_count": 70,
   "id": "0dcce952",
   "metadata": {},
   "outputs": [
    {
     "name": "stdout",
     "output_type": "stream",
     "text": [
      "operands could not be broadcast together with shapes (2,) (3,) \n"
     ]
    }
   ],
   "source": [
    "try:\n",
    "    a+b\n",
    "except Exception as e :\n",
    "    print(e)"
   ]
  },
  {
   "cell_type": "code",
   "execution_count": 71,
   "id": "e1fffb50",
   "metadata": {},
   "outputs": [],
   "source": [
    "a = np.append(a,[6])"
   ]
  },
  {
   "cell_type": "code",
   "execution_count": 73,
   "id": "b452ab5c",
   "metadata": {},
   "outputs": [
    {
     "data": {
      "text/plain": [
       "(3,)"
      ]
     },
     "execution_count": 73,
     "metadata": {},
     "output_type": "execute_result"
    }
   ],
   "source": [
    "a.shape"
   ]
  },
  {
   "cell_type": "code",
   "execution_count": 74,
   "id": "a1d2dbf0",
   "metadata": {},
   "outputs": [
    {
     "data": {
      "text/plain": [
       "array([ 7,  9, 12])"
      ]
     },
     "execution_count": 74,
     "metadata": {},
     "output_type": "execute_result"
    }
   ],
   "source": [
    "a+b"
   ]
  },
  {
   "cell_type": "code",
   "execution_count": 75,
   "id": "2c9c9876",
   "metadata": {},
   "outputs": [],
   "source": [
    "a2 = np.array([[1,2,3],[3,4,5]])"
   ]
  },
  {
   "cell_type": "code",
   "execution_count": 76,
   "id": "502ae5b3",
   "metadata": {},
   "outputs": [],
   "source": [
    "b2 = np.array([1,2])"
   ]
  },
  {
   "cell_type": "code",
   "execution_count": 77,
   "id": "e11969a7",
   "metadata": {},
   "outputs": [
    {
     "name": "stdout",
     "output_type": "stream",
     "text": [
      "operands could not be broadcast together with shapes (2,3) (2,) \n"
     ]
    }
   ],
   "source": [
    "try:\n",
    "    a2 + b2\n",
    "except Exception as e:\n",
    "    print(e)"
   ]
  },
  {
   "cell_type": "code",
   "execution_count": 78,
   "id": "2a18db02",
   "metadata": {},
   "outputs": [],
   "source": [
    "b2 = np.append(b2,[3])"
   ]
  },
  {
   "cell_type": "code",
   "execution_count": 79,
   "id": "096c61eb",
   "metadata": {},
   "outputs": [
    {
     "data": {
      "text/plain": [
       "(3,)"
      ]
     },
     "execution_count": 79,
     "metadata": {},
     "output_type": "execute_result"
    }
   ],
   "source": [
    "b2.shape"
   ]
  },
  {
   "cell_type": "code",
   "execution_count": 80,
   "id": "b24edb04",
   "metadata": {},
   "outputs": [
    {
     "data": {
      "text/plain": [
       "array([[2, 4, 6],\n",
       "       [4, 6, 8]])"
      ]
     },
     "execution_count": 80,
     "metadata": {},
     "output_type": "execute_result"
    }
   ],
   "source": [
    "a2 + b2"
   ]
  },
  {
   "cell_type": "code",
   "execution_count": 81,
   "id": "4de300ac",
   "metadata": {},
   "outputs": [],
   "source": [
    "a = np.array([[1,2],[3,4]])"
   ]
  },
  {
   "cell_type": "code",
   "execution_count": 82,
   "id": "4659a70c",
   "metadata": {},
   "outputs": [
    {
     "data": {
      "text/plain": [
       "array([[1, 2],\n",
       "       [3, 4]])"
      ]
     },
     "execution_count": 82,
     "metadata": {},
     "output_type": "execute_result"
    }
   ],
   "source": [
    "a"
   ]
  },
  {
   "cell_type": "code",
   "execution_count": 83,
   "id": "5febc762",
   "metadata": {},
   "outputs": [],
   "source": [
    "b = a"
   ]
  },
  {
   "cell_type": "code",
   "execution_count": 84,
   "id": "e26229e5",
   "metadata": {},
   "outputs": [
    {
     "data": {
      "text/plain": [
       "array([[1, 2],\n",
       "       [3, 4]])"
      ]
     },
     "execution_count": 84,
     "metadata": {},
     "output_type": "execute_result"
    }
   ],
   "source": [
    "b"
   ]
  },
  {
   "cell_type": "code",
   "execution_count": 85,
   "id": "c841aea2",
   "metadata": {},
   "outputs": [
    {
     "data": {
      "text/plain": [
       "True"
      ]
     },
     "execution_count": 85,
     "metadata": {},
     "output_type": "execute_result"
    }
   ],
   "source": [
    "a is b"
   ]
  },
  {
   "cell_type": "code",
   "execution_count": 86,
   "id": "d77cc513",
   "metadata": {},
   "outputs": [
    {
     "data": {
      "text/plain": [
       "False"
      ]
     },
     "execution_count": 86,
     "metadata": {},
     "output_type": "execute_result"
    }
   ],
   "source": [
    "a is b.base"
   ]
  },
  {
   "cell_type": "code",
   "execution_count": 87,
   "id": "35781839",
   "metadata": {},
   "outputs": [],
   "source": [
    "b[0] = 999"
   ]
  },
  {
   "cell_type": "code",
   "execution_count": 88,
   "id": "f5647074",
   "metadata": {},
   "outputs": [
    {
     "data": {
      "text/plain": [
       "array([[999, 999],\n",
       "       [  3,   4]])"
      ]
     },
     "execution_count": 88,
     "metadata": {},
     "output_type": "execute_result"
    }
   ],
   "source": [
    "a"
   ]
  },
  {
   "cell_type": "code",
   "execution_count": 89,
   "id": "8e9e5fa2",
   "metadata": {},
   "outputs": [
    {
     "data": {
      "text/plain": [
       "array([[999, 999],\n",
       "       [  3,   4]])"
      ]
     },
     "execution_count": 89,
     "metadata": {},
     "output_type": "execute_result"
    }
   ],
   "source": [
    "b"
   ]
  },
  {
   "cell_type": "code",
   "execution_count": 90,
   "id": "e982ea50",
   "metadata": {},
   "outputs": [],
   "source": [
    "f = np.array([4,5,6,7,8])"
   ]
  },
  {
   "cell_type": "code",
   "execution_count": 91,
   "id": "80cb7b7c",
   "metadata": {},
   "outputs": [],
   "source": [
    "e = f.copy()"
   ]
  },
  {
   "cell_type": "code",
   "execution_count": 92,
   "id": "f53f30b0",
   "metadata": {},
   "outputs": [
    {
     "data": {
      "text/plain": [
       "True"
      ]
     },
     "execution_count": 92,
     "metadata": {},
     "output_type": "execute_result"
    }
   ],
   "source": [
    "e.base is None"
   ]
  },
  {
   "cell_type": "code",
   "execution_count": 93,
   "id": "08b21b3f",
   "metadata": {},
   "outputs": [
    {
     "data": {
      "text/plain": [
       "array([4, 5, 6, 7, 8])"
      ]
     },
     "execution_count": 93,
     "metadata": {},
     "output_type": "execute_result"
    }
   ],
   "source": [
    "g = f[:]\n",
    "g.base"
   ]
  },
  {
   "cell_type": "code",
   "execution_count": 94,
   "id": "52eecdd5",
   "metadata": {},
   "outputs": [
    {
     "data": {
      "text/plain": [
       "True"
      ]
     },
     "execution_count": 94,
     "metadata": {},
     "output_type": "execute_result"
    }
   ],
   "source": [
    "g.base is f"
   ]
  },
  {
   "cell_type": "code",
   "execution_count": 95,
   "id": "2a7c5b0c",
   "metadata": {},
   "outputs": [
    {
     "data": {
      "text/plain": [
       "True"
      ]
     },
     "execution_count": 95,
     "metadata": {},
     "output_type": "execute_result"
    }
   ],
   "source": [
    "np.may_share_memory(g,f)"
   ]
  },
  {
   "cell_type": "code",
   "execution_count": 96,
   "id": "7e607b7c",
   "metadata": {},
   "outputs": [],
   "source": [
    "g[1] =99999"
   ]
  },
  {
   "cell_type": "code",
   "execution_count": 97,
   "id": "3660f4b9",
   "metadata": {},
   "outputs": [
    {
     "data": {
      "text/plain": [
       "array([    4, 99999,     6,     7,     8])"
      ]
     },
     "execution_count": 97,
     "metadata": {},
     "output_type": "execute_result"
    }
   ],
   "source": [
    "g"
   ]
  },
  {
   "cell_type": "code",
   "execution_count": 98,
   "id": "71684b26",
   "metadata": {},
   "outputs": [
    {
     "data": {
      "text/plain": [
       "array([    4, 99999,     6,     7,     8])"
      ]
     },
     "execution_count": 98,
     "metadata": {},
     "output_type": "execute_result"
    }
   ],
   "source": [
    "f"
   ]
  },
  {
   "cell_type": "code",
   "execution_count": 99,
   "id": "ca7d0ab0",
   "metadata": {},
   "outputs": [],
   "source": [
    "h = f.view()"
   ]
  },
  {
   "cell_type": "code",
   "execution_count": 100,
   "id": "c43a03e6",
   "metadata": {},
   "outputs": [
    {
     "data": {
      "text/plain": [
       "array([    4, 99999,     6,     7,     8])"
      ]
     },
     "execution_count": 100,
     "metadata": {},
     "output_type": "execute_result"
    }
   ],
   "source": [
    "h"
   ]
  },
  {
   "cell_type": "code",
   "execution_count": 101,
   "id": "21ef864b",
   "metadata": {},
   "outputs": [
    {
     "data": {
      "text/plain": [
       "True"
      ]
     },
     "execution_count": 101,
     "metadata": {},
     "output_type": "execute_result"
    }
   ],
   "source": [
    "h.base is f"
   ]
  },
  {
   "cell_type": "code",
   "execution_count": 102,
   "id": "3fbbaef0",
   "metadata": {},
   "outputs": [
    {
     "data": {
      "text/plain": [
       "True"
      ]
     },
     "execution_count": 102,
     "metadata": {},
     "output_type": "execute_result"
    }
   ],
   "source": [
    "np.may_share_memory(h,f)"
   ]
  },
  {
   "cell_type": "code",
   "execution_count": 103,
   "id": "4e4219a3",
   "metadata": {},
   "outputs": [],
   "source": [
    "a = np.array([1,3,5,7])"
   ]
  },
  {
   "cell_type": "code",
   "execution_count": 104,
   "id": "aff32bf0",
   "metadata": {},
   "outputs": [],
   "source": [
    "b = np.array(a,copy=True)"
   ]
  },
  {
   "cell_type": "code",
   "execution_count": 105,
   "id": "90675923",
   "metadata": {},
   "outputs": [
    {
     "data": {
      "text/plain": [
       "True"
      ]
     },
     "execution_count": 105,
     "metadata": {},
     "output_type": "execute_result"
    }
   ],
   "source": [
    "b.base is None"
   ]
  },
  {
   "cell_type": "code",
   "execution_count": 106,
   "id": "fb8ac2f2",
   "metadata": {},
   "outputs": [],
   "source": [
    "c = np.array(a)"
   ]
  },
  {
   "cell_type": "code",
   "execution_count": 107,
   "id": "2425af22",
   "metadata": {},
   "outputs": [
    {
     "data": {
      "text/plain": [
       "True"
      ]
     },
     "execution_count": 107,
     "metadata": {},
     "output_type": "execute_result"
    }
   ],
   "source": [
    "c.base is None"
   ]
  },
  {
   "cell_type": "code",
   "execution_count": 108,
   "id": "fc9c8204",
   "metadata": {},
   "outputs": [],
   "source": [
    "aa = np.array([1,2,3,4,5,6,7])"
   ]
  },
  {
   "cell_type": "code",
   "execution_count": 109,
   "id": "6f9bf18f",
   "metadata": {},
   "outputs": [],
   "source": [
    "aa_c = np.sort(aa, axis=0)"
   ]
  },
  {
   "cell_type": "code",
   "execution_count": 110,
   "id": "5010be7e",
   "metadata": {},
   "outputs": [
    {
     "data": {
      "text/plain": [
       "array([1, 2, 3, 4, 5, 6, 7])"
      ]
     },
     "execution_count": 110,
     "metadata": {},
     "output_type": "execute_result"
    }
   ],
   "source": [
    "aa_c"
   ]
  },
  {
   "cell_type": "code",
   "execution_count": 111,
   "id": "ede52e72",
   "metadata": {},
   "outputs": [
    {
     "data": {
      "text/plain": [
       "True"
      ]
     },
     "execution_count": 111,
     "metadata": {},
     "output_type": "execute_result"
    }
   ],
   "source": [
    "aa_c.base is None"
   ]
  },
  {
   "cell_type": "code",
   "execution_count": 112,
   "id": "65ad4d28",
   "metadata": {},
   "outputs": [
    {
     "data": {
      "text/plain": [
       "7"
      ]
     },
     "execution_count": 112,
     "metadata": {},
     "output_type": "execute_result"
    }
   ],
   "source": [
    "aa[6]"
   ]
  },
  {
   "cell_type": "code",
   "execution_count": 113,
   "id": "8e48d92d",
   "metadata": {},
   "outputs": [],
   "source": [
    "aa.sort()"
   ]
  },
  {
   "cell_type": "code",
   "execution_count": 114,
   "id": "9079a006",
   "metadata": {},
   "outputs": [
    {
     "data": {
      "text/plain": [
       "array([1, 2, 3, 4, 5, 6, 7])"
      ]
     },
     "execution_count": 114,
     "metadata": {},
     "output_type": "execute_result"
    }
   ],
   "source": [
    "aa"
   ]
  },
  {
   "cell_type": "code",
   "execution_count": 115,
   "id": "53dbc36a",
   "metadata": {},
   "outputs": [],
   "source": [
    "l = list(range(1,10))"
   ]
  },
  {
   "cell_type": "code",
   "execution_count": 116,
   "id": "c76e6528",
   "metadata": {},
   "outputs": [
    {
     "data": {
      "text/plain": [
       "[1, 2, 3, 4, 5, 6, 7, 8, 9]"
      ]
     },
     "execution_count": 116,
     "metadata": {},
     "output_type": "execute_result"
    }
   ],
   "source": [
    "l"
   ]
  },
  {
   "cell_type": "code",
   "execution_count": 117,
   "id": "b1b71585",
   "metadata": {},
   "outputs": [],
   "source": [
    "index = 1"
   ]
  },
  {
   "cell_type": "code",
   "execution_count": 118,
   "id": "e1575d5b",
   "metadata": {},
   "outputs": [
    {
     "data": {
      "text/plain": [
       "2"
      ]
     },
     "execution_count": 118,
     "metadata": {},
     "output_type": "execute_result"
    }
   ],
   "source": [
    "l.__getitem__(index)"
   ]
  },
  {
   "cell_type": "code",
   "execution_count": 119,
   "id": "9309d3a2",
   "metadata": {},
   "outputs": [],
   "source": [
    "index = slice(1,3)"
   ]
  },
  {
   "cell_type": "code",
   "execution_count": 120,
   "id": "9c0f4e73",
   "metadata": {},
   "outputs": [
    {
     "data": {
      "text/plain": [
       "[2, 3]"
      ]
     },
     "execution_count": 120,
     "metadata": {},
     "output_type": "execute_result"
    }
   ],
   "source": [
    "l.__getitem__(index)"
   ]
  },
  {
   "cell_type": "code",
   "execution_count": 121,
   "id": "11f30d3d",
   "metadata": {},
   "outputs": [],
   "source": [
    "a = np.array([1,2,3,4,5,6,7])"
   ]
  },
  {
   "cell_type": "code",
   "execution_count": 122,
   "id": "ad06e931",
   "metadata": {},
   "outputs": [],
   "source": [
    "index = 1"
   ]
  },
  {
   "cell_type": "code",
   "execution_count": 125,
   "id": "ce159b5b",
   "metadata": {},
   "outputs": [
    {
     "data": {
      "text/plain": [
       "2"
      ]
     },
     "execution_count": 125,
     "metadata": {},
     "output_type": "execute_result"
    }
   ],
   "source": [
    "a.__getitem__(index)"
   ]
  },
  {
   "cell_type": "code",
   "execution_count": 126,
   "id": "1b8a5126",
   "metadata": {},
   "outputs": [
    {
     "data": {
      "text/plain": [
       "2"
      ]
     },
     "execution_count": 126,
     "metadata": {},
     "output_type": "execute_result"
    }
   ],
   "source": [
    "a.__getitem__(index)"
   ]
  },
  {
   "cell_type": "code",
   "execution_count": 127,
   "id": "e71d222f",
   "metadata": {},
   "outputs": [],
   "source": [
    "index = 1"
   ]
  },
  {
   "cell_type": "code",
   "execution_count": 128,
   "id": "056f8965",
   "metadata": {},
   "outputs": [
    {
     "data": {
      "text/plain": [
       "2"
      ]
     },
     "execution_count": 128,
     "metadata": {},
     "output_type": "execute_result"
    }
   ],
   "source": [
    "a.__getitem__(index)"
   ]
  },
  {
   "cell_type": "code",
   "execution_count": 129,
   "id": "fca7eaa3",
   "metadata": {},
   "outputs": [],
   "source": [
    "index=[1]"
   ]
  },
  {
   "cell_type": "code",
   "execution_count": 130,
   "id": "8a75e33e",
   "metadata": {},
   "outputs": [
    {
     "data": {
      "text/plain": [
       "array([2])"
      ]
     },
     "execution_count": 130,
     "metadata": {},
     "output_type": "execute_result"
    }
   ],
   "source": [
    "a.__getitem__(index)"
   ]
  },
  {
   "cell_type": "code",
   "execution_count": 131,
   "id": "0fe6d81e",
   "metadata": {},
   "outputs": [],
   "source": [
    "index = a<4"
   ]
  },
  {
   "cell_type": "code",
   "execution_count": 132,
   "id": "08d91e19",
   "metadata": {},
   "outputs": [
    {
     "data": {
      "text/plain": [
       "array([ True,  True,  True, False, False, False, False])"
      ]
     },
     "execution_count": 132,
     "metadata": {},
     "output_type": "execute_result"
    }
   ],
   "source": [
    "index"
   ]
  },
  {
   "cell_type": "code",
   "execution_count": 133,
   "id": "025c0107",
   "metadata": {},
   "outputs": [
    {
     "data": {
      "text/plain": [
       "array([1, 2, 3])"
      ]
     },
     "execution_count": 133,
     "metadata": {},
     "output_type": "execute_result"
    }
   ],
   "source": [
    "a.__getitem__(index)"
   ]
  },
  {
   "cell_type": "code",
   "execution_count": 134,
   "id": "df4025c0",
   "metadata": {},
   "outputs": [],
   "source": [
    "index = a<3"
   ]
  },
  {
   "cell_type": "code",
   "execution_count": 135,
   "id": "c2305592",
   "metadata": {},
   "outputs": [],
   "source": [
    "a.__setitem__(index , 9080)"
   ]
  },
  {
   "cell_type": "code",
   "execution_count": 136,
   "id": "14f3ed0b",
   "metadata": {},
   "outputs": [
    {
     "data": {
      "text/plain": [
       "array([9080, 9080,    3,    4,    5,    6,    7])"
      ]
     },
     "execution_count": 136,
     "metadata": {},
     "output_type": "execute_result"
    }
   ],
   "source": [
    "a"
   ]
  },
  {
   "cell_type": "code",
   "execution_count": null,
   "id": "282b0133",
   "metadata": {},
   "outputs": [],
   "source": []
  }
 ],
 "metadata": {
  "kernelspec": {
   "display_name": "ml",
   "language": "python",
   "name": "ml"
  },
  "language_info": {
   "codemirror_mode": {
    "name": "ipython",
    "version": 3
   },
   "file_extension": ".py",
   "mimetype": "text/x-python",
   "name": "python",
   "nbconvert_exporter": "python",
   "pygments_lexer": "ipython3",
   "version": "3.9.5"
  }
 },
 "nbformat": 4,
 "nbformat_minor": 5
}
