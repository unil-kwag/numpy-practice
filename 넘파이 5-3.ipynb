{
 "cells": [
  {
   "cell_type": "code",
   "execution_count": 1,
   "id": "dd5953fe-0d9d-474d-b8d5-f45ef074f628",
   "metadata": {},
   "outputs": [],
   "source": [
    "import numpy as np\n",
    "import pandas as pd"
   ]
  },
  {
   "cell_type": "code",
   "execution_count": 2,
   "id": "4918cb0a-d9d5-41b5-801e-ca9eddf72988",
   "metadata": {},
   "outputs": [
    {
     "data": {
      "text/plain": [
       "numpy.lib.index_tricks.MGridClass"
      ]
     },
     "execution_count": 2,
     "metadata": {},
     "output_type": "execute_result"
    }
   ],
   "source": [
    "type(np.mgrid)"
   ]
  },
  {
   "cell_type": "code",
   "execution_count": 3,
   "id": "73d444d2-f47e-4d75-9555-6f2f9183ac75",
   "metadata": {},
   "outputs": [
    {
     "data": {
      "text/plain": [
       "numpy.lib.index_tricks.MGridClass"
      ]
     },
     "execution_count": 3,
     "metadata": {},
     "output_type": "execute_result"
    }
   ],
   "source": [
    "np.mgrid.__class__"
   ]
  },
  {
   "cell_type": "code",
   "execution_count": 4,
   "id": "64457b69-99c5-4675-bfe1-090ac6977df3",
   "metadata": {},
   "outputs": [
    {
     "data": {
      "text/plain": [
       "array([10, 20])"
      ]
     },
     "execution_count": 4,
     "metadata": {},
     "output_type": "execute_result"
    }
   ],
   "source": [
    "np.arange(10,30,10)"
   ]
  },
  {
   "cell_type": "code",
   "execution_count": 5,
   "id": "9f6b7340-2c02-42c3-98e7-044a8f5252da",
   "metadata": {},
   "outputs": [
    {
     "data": {
      "text/plain": [
       "array([1, 2, 3, 4])"
      ]
     },
     "execution_count": 5,
     "metadata": {},
     "output_type": "execute_result"
    }
   ],
   "source": [
    "np.arange(1,5)"
   ]
  },
  {
   "cell_type": "code",
   "execution_count": 6,
   "id": "c58cb63f-1e82-4aa1-bab2-96384311baae",
   "metadata": {},
   "outputs": [
    {
     "data": {
      "text/plain": [
       "[array([[10, 10, 10, 10],\n",
       "        [20, 20, 20, 20]]),\n",
       " array([[1, 2, 3, 4],\n",
       "        [1, 2, 3, 4]])]"
      ]
     },
     "execution_count": 6,
     "metadata": {},
     "output_type": "execute_result"
    }
   ],
   "source": [
    "np.broadcast_arrays(np.arange(10,30,10).reshape(2,1),\n",
    "                   np.arange(1,5).reshape(1,4))"
   ]
  },
  {
   "cell_type": "code",
   "execution_count": 7,
   "id": "0eb5730e-ed4d-43f2-88b6-09b11fe18355",
   "metadata": {},
   "outputs": [],
   "source": [
    "a, b = np.mgrid[10:30:10,1:5]"
   ]
  },
  {
   "cell_type": "code",
   "execution_count": 8,
   "id": "255bb564-b470-4f0f-8fea-62a1d8ab01f0",
   "metadata": {},
   "outputs": [
    {
     "data": {
      "text/plain": [
       "array([[10, 10, 10, 10],\n",
       "       [20, 20, 20, 20]])"
      ]
     },
     "execution_count": 8,
     "metadata": {},
     "output_type": "execute_result"
    }
   ],
   "source": [
    "a"
   ]
  },
  {
   "cell_type": "code",
   "execution_count": 9,
   "id": "c68d8c99-b873-4fc5-8f80-9c341325983d",
   "metadata": {},
   "outputs": [
    {
     "data": {
      "text/plain": [
       "array([[1, 2, 3, 4],\n",
       "       [1, 2, 3, 4]])"
      ]
     },
     "execution_count": 9,
     "metadata": {},
     "output_type": "execute_result"
    }
   ],
   "source": [
    "b"
   ]
  },
  {
   "cell_type": "code",
   "execution_count": 10,
   "id": "d8ddaabc-b5ae-49b4-ab74-b182b3080af2",
   "metadata": {},
   "outputs": [],
   "source": [
    "s1 = slice(10,30,10)"
   ]
  },
  {
   "cell_type": "code",
   "execution_count": 11,
   "id": "2783117b-e4aa-4b25-9156-2de739ff3436",
   "metadata": {},
   "outputs": [],
   "source": [
    "s2 = slice(1,5)"
   ]
  },
  {
   "cell_type": "code",
   "execution_count": 13,
   "id": "5ef50435-91f5-4a62-bc86-2bcae5f391b8",
   "metadata": {},
   "outputs": [],
   "source": [
    "a_,b_ = np.mgrid[s1, s2]"
   ]
  },
  {
   "cell_type": "code",
   "execution_count": 14,
   "id": "380d1751-0f60-4e31-bb2b-d92922367ee3",
   "metadata": {},
   "outputs": [
    {
     "data": {
      "text/plain": [
       "array([[10, 10, 10, 10],\n",
       "       [20, 20, 20, 20]])"
      ]
     },
     "execution_count": 14,
     "metadata": {},
     "output_type": "execute_result"
    }
   ],
   "source": [
    "a_"
   ]
  },
  {
   "cell_type": "code",
   "execution_count": 15,
   "id": "db4457b4-d30f-4d0b-8871-d22ed799dedb",
   "metadata": {},
   "outputs": [
    {
     "data": {
      "text/plain": [
       "array([[1, 2, 3, 4],\n",
       "       [1, 2, 3, 4]])"
      ]
     },
     "execution_count": 15,
     "metadata": {},
     "output_type": "execute_result"
    }
   ],
   "source": [
    "b_"
   ]
  },
  {
   "cell_type": "code",
   "execution_count": 16,
   "id": "71237411-1d25-440a-83b1-287b7802749e",
   "metadata": {},
   "outputs": [
    {
     "data": {
      "text/plain": [
       "numpy.lib.index_tricks.OGridClass"
      ]
     },
     "execution_count": 16,
     "metadata": {},
     "output_type": "execute_result"
    }
   ],
   "source": [
    "type(np.ogrid)"
   ]
  },
  {
   "cell_type": "code",
   "execution_count": 17,
   "id": "101ce6e5-db90-4a53-83bc-7ff252b92b85",
   "metadata": {},
   "outputs": [],
   "source": [
    "c,d = np.ogrid[10:30:10, 1:5]"
   ]
  },
  {
   "cell_type": "code",
   "execution_count": 18,
   "id": "e962f4e7-4110-45ea-967b-842d74ec9a10",
   "metadata": {},
   "outputs": [
    {
     "data": {
      "text/plain": [
       "array([[10],\n",
       "       [20]])"
      ]
     },
     "execution_count": 18,
     "metadata": {},
     "output_type": "execute_result"
    }
   ],
   "source": [
    "c"
   ]
  },
  {
   "cell_type": "code",
   "execution_count": 19,
   "id": "1c2deca4-3d98-47a9-97a5-5e947a47ad1a",
   "metadata": {},
   "outputs": [
    {
     "data": {
      "text/plain": [
       "array([[1, 2, 3, 4]])"
      ]
     },
     "execution_count": 19,
     "metadata": {},
     "output_type": "execute_result"
    }
   ],
   "source": [
    "d"
   ]
  },
  {
   "cell_type": "code",
   "execution_count": 20,
   "id": "553314ad-c2e0-4725-b75c-c41c2f723327",
   "metadata": {},
   "outputs": [],
   "source": [
    "e, f = np.broadcast_arrays(c,d)"
   ]
  },
  {
   "cell_type": "code",
   "execution_count": 21,
   "id": "249b3b4a-a8af-4ff3-bc95-8970e447bf30",
   "metadata": {},
   "outputs": [
    {
     "data": {
      "text/plain": [
       "array([[10, 10, 10, 10],\n",
       "       [20, 20, 20, 20]])"
      ]
     },
     "execution_count": 21,
     "metadata": {},
     "output_type": "execute_result"
    }
   ],
   "source": [
    "e"
   ]
  },
  {
   "cell_type": "code",
   "execution_count": 22,
   "id": "46e3a804-bcc8-42cd-9f30-2ed3fa4e4992",
   "metadata": {},
   "outputs": [
    {
     "data": {
      "text/plain": [
       "array([[1, 2, 3, 4],\n",
       "       [1, 2, 3, 4]])"
      ]
     },
     "execution_count": 22,
     "metadata": {},
     "output_type": "execute_result"
    }
   ],
   "source": [
    "f"
   ]
  },
  {
   "cell_type": "code",
   "execution_count": 23,
   "id": "fac0240c-1afd-4674-b998-991a7a72f938",
   "metadata": {},
   "outputs": [],
   "source": [
    "a = np.array([[1,3],[2,5],[3,7]])"
   ]
  },
  {
   "cell_type": "code",
   "execution_count": 24,
   "id": "4cdeb040-8f49-41e9-814e-dc5427d08b92",
   "metadata": {},
   "outputs": [
    {
     "data": {
      "text/plain": [
       "array([[1, 3],\n",
       "       [2, 5],\n",
       "       [3, 7]])"
      ]
     },
     "execution_count": 24,
     "metadata": {},
     "output_type": "execute_result"
    }
   ],
   "source": [
    "a"
   ]
  },
  {
   "cell_type": "code",
   "execution_count": 25,
   "id": "fb872038-e7ad-4263-943b-742ad7d3b3de",
   "metadata": {},
   "outputs": [
    {
     "data": {
      "text/plain": [
       "array([3])"
      ]
     },
     "execution_count": 25,
     "metadata": {},
     "output_type": "execute_result"
    }
   ],
   "source": [
    "np.compress([0,1],a)"
   ]
  },
  {
   "cell_type": "code",
   "execution_count": 26,
   "id": "960b49e1-d09e-478b-bf7c-2dac5e780466",
   "metadata": {},
   "outputs": [
    {
     "data": {
      "text/plain": [
       "array([3])"
      ]
     },
     "execution_count": 26,
     "metadata": {},
     "output_type": "execute_result"
    }
   ],
   "source": [
    "a[[0],[1]]"
   ]
  },
  {
   "cell_type": "code",
   "execution_count": 27,
   "id": "18bb75a4-ba19-4f41-ad54-95ffb4e6c1f3",
   "metadata": {},
   "outputs": [
    {
     "data": {
      "text/plain": [
       "array([3, 2])"
      ]
     },
     "execution_count": 27,
     "metadata": {},
     "output_type": "execute_result"
    }
   ],
   "source": [
    "np.compress([0,1,1,0,0,0],a)"
   ]
  },
  {
   "cell_type": "code",
   "execution_count": 28,
   "id": "e3b381a0-b648-4a9a-a718-95bee19bcda6",
   "metadata": {},
   "outputs": [
    {
     "data": {
      "text/plain": [
       "array([[2, 5]])"
      ]
     },
     "execution_count": 28,
     "metadata": {},
     "output_type": "execute_result"
    }
   ],
   "source": [
    "np.compress([0,1,0],a,axis=0)"
   ]
  },
  {
   "cell_type": "code",
   "execution_count": 29,
   "id": "69a63544-f398-40f5-a757-6e87694a860a",
   "metadata": {},
   "outputs": [
    {
     "data": {
      "text/plain": [
       "array([[3],\n",
       "       [5],\n",
       "       [7]])"
      ]
     },
     "execution_count": 29,
     "metadata": {},
     "output_type": "execute_result"
    }
   ],
   "source": [
    "np.compress([0,1],a,axis=1)"
   ]
  },
  {
   "cell_type": "code",
   "execution_count": 30,
   "id": "07aa8ea2-58f7-4608-be7d-895f5da8e5e4",
   "metadata": {},
   "outputs": [],
   "source": [
    "cond = np.mod(a,3)"
   ]
  },
  {
   "cell_type": "code",
   "execution_count": 31,
   "id": "c1e02328-22a7-4efb-a260-7c77913bd640",
   "metadata": {},
   "outputs": [
    {
     "data": {
      "text/plain": [
       "array([[1, 0],\n",
       "       [2, 2],\n",
       "       [0, 1]])"
      ]
     },
     "execution_count": 31,
     "metadata": {},
     "output_type": "execute_result"
    }
   ],
   "source": [
    "cond"
   ]
  },
  {
   "cell_type": "code",
   "execution_count": 32,
   "id": "51da202a-9fbd-4005-88c6-9a116c8cfbbb",
   "metadata": {},
   "outputs": [
    {
     "data": {
      "text/plain": [
       "array([1, 2, 5, 7])"
      ]
     },
     "execution_count": 32,
     "metadata": {},
     "output_type": "execute_result"
    }
   ],
   "source": [
    "np.extract(cond,a)"
   ]
  },
  {
   "cell_type": "code",
   "execution_count": 33,
   "id": "eb66139a-5e99-4318-a17b-566f86c113f5",
   "metadata": {},
   "outputs": [],
   "source": [
    "cc = np.array([[1,0],[1,1],[0,1]])"
   ]
  },
  {
   "cell_type": "code",
   "execution_count": 34,
   "id": "ea91007d-46d4-441e-b616-0a2be289d6d9",
   "metadata": {},
   "outputs": [
    {
     "data": {
      "text/plain": [
       "array([1, 2, 5, 7])"
      ]
     },
     "execution_count": 34,
     "metadata": {},
     "output_type": "execute_result"
    }
   ],
   "source": [
    "np.extract(cc,a)"
   ]
  },
  {
   "cell_type": "code",
   "execution_count": 35,
   "id": "fe1ca080-83e4-45a8-bcb7-400c3fdd9095",
   "metadata": {},
   "outputs": [],
   "source": [
    "x = np.array([[[0], [1], [2]]])"
   ]
  },
  {
   "cell_type": "code",
   "execution_count": 36,
   "id": "aa8404e3-4d44-48f6-b332-5fc6502d6a54",
   "metadata": {},
   "outputs": [
    {
     "data": {
      "text/plain": [
       "array([[[0],\n",
       "        [1],\n",
       "        [2]]])"
      ]
     },
     "execution_count": 36,
     "metadata": {},
     "output_type": "execute_result"
    }
   ],
   "source": [
    "x"
   ]
  },
  {
   "cell_type": "code",
   "execution_count": 37,
   "id": "35d46d00-3fe9-4987-8a96-930022e7eee5",
   "metadata": {},
   "outputs": [
    {
     "data": {
      "text/plain": [
       "(1, 3, 1)"
      ]
     },
     "execution_count": 37,
     "metadata": {},
     "output_type": "execute_result"
    }
   ],
   "source": [
    "x.shape"
   ]
  },
  {
   "cell_type": "code",
   "execution_count": 38,
   "id": "49c1221c-63ad-49b9-a6d4-524334c1ce93",
   "metadata": {},
   "outputs": [
    {
     "data": {
      "text/plain": [
       "array([0, 1, 2])"
      ]
     },
     "execution_count": 38,
     "metadata": {},
     "output_type": "execute_result"
    }
   ],
   "source": [
    "np.squeeze(x)"
   ]
  },
  {
   "cell_type": "code",
   "execution_count": 39,
   "id": "2a78bb5d-0b96-440f-bfc2-e91bf99c9b0c",
   "metadata": {},
   "outputs": [
    {
     "data": {
      "text/plain": [
       "array([[0],\n",
       "       [1],\n",
       "       [2]])"
      ]
     },
     "execution_count": 39,
     "metadata": {},
     "output_type": "execute_result"
    }
   ],
   "source": [
    "np.squeeze(x,axis=0)"
   ]
  },
  {
   "cell_type": "code",
   "execution_count": 41,
   "id": "f70b1b49-52de-4f48-aaba-b1a3af9f3fae",
   "metadata": {},
   "outputs": [
    {
     "data": {
      "text/plain": [
       "array([[0, 1, 2]])"
      ]
     },
     "execution_count": 41,
     "metadata": {},
     "output_type": "execute_result"
    }
   ],
   "source": [
    "np.squeeze(x,axis=2)"
   ]
  },
  {
   "cell_type": "code",
   "execution_count": 42,
   "id": "1a5381b3-ddd3-4c6f-b048-af691737b7fa",
   "metadata": {},
   "outputs": [],
   "source": [
    "y = np.array([[0],[1]])"
   ]
  },
  {
   "cell_type": "code",
   "execution_count": 43,
   "id": "339f2e43-a084-48d3-83b8-772fc055b6fd",
   "metadata": {},
   "outputs": [
    {
     "data": {
      "text/plain": [
       "(2, 1)"
      ]
     },
     "execution_count": 43,
     "metadata": {},
     "output_type": "execute_result"
    }
   ],
   "source": [
    "y.shape"
   ]
  },
  {
   "cell_type": "code",
   "execution_count": 44,
   "id": "47ee6c7f-e685-4938-86da-5bc161b31b4b",
   "metadata": {},
   "outputs": [
    {
     "data": {
      "text/plain": [
       "array([0, 1])"
      ]
     },
     "execution_count": 44,
     "metadata": {},
     "output_type": "execute_result"
    }
   ],
   "source": [
    "np.squeeze(y,1)"
   ]
  },
  {
   "cell_type": "code",
   "execution_count": 45,
   "id": "cecaca3c-57c9-4b9d-895f-68fcd09c9f2b",
   "metadata": {},
   "outputs": [],
   "source": [
    "z = np.array([[0,2],[1,3]])"
   ]
  },
  {
   "cell_type": "code",
   "execution_count": 46,
   "id": "b3e1f818-38c6-484d-8ee6-38fbf88b2a73",
   "metadata": {},
   "outputs": [
    {
     "data": {
      "text/plain": [
       "array([[0, 2],\n",
       "       [1, 3]])"
      ]
     },
     "execution_count": 46,
     "metadata": {},
     "output_type": "execute_result"
    }
   ],
   "source": [
    "np.squeeze(z)"
   ]
  },
  {
   "cell_type": "code",
   "execution_count": 48,
   "id": "c3a87da4-be5c-4ff4-9842-eb5899295b15",
   "metadata": {},
   "outputs": [
    {
     "name": "stdout",
     "output_type": "stream",
     "text": [
      "cannot select an axis to squeeze out which has size not equal to one\n"
     ]
    }
   ],
   "source": [
    "try:\n",
    "    np.squeeze(z,1)\n",
    "except Exception as e:\n",
    "    print(e)"
   ]
  },
  {
   "cell_type": "code",
   "execution_count": 49,
   "id": "c9810c65-a218-4990-a30b-7732c952b52f",
   "metadata": {},
   "outputs": [],
   "source": [
    "# 배열 내의 원소 반복하기"
   ]
  },
  {
   "cell_type": "code",
   "execution_count": 50,
   "id": "6ff2129b-2f88-4f50-948f-a977eef10db6",
   "metadata": {},
   "outputs": [],
   "source": [
    "a = np.linspace(1,5,5, dtype=np.int32)"
   ]
  },
  {
   "cell_type": "code",
   "execution_count": 51,
   "id": "80539889-6680-4842-a6d1-f2d0e2892ede",
   "metadata": {},
   "outputs": [
    {
     "data": {
      "text/plain": [
       "array([1, 2, 3, 4, 5], dtype=int32)"
      ]
     },
     "execution_count": 51,
     "metadata": {},
     "output_type": "execute_result"
    }
   ],
   "source": [
    "a"
   ]
  },
  {
   "cell_type": "code",
   "execution_count": 52,
   "id": "08a2db62-7f3b-437f-9d00-352be413367f",
   "metadata": {},
   "outputs": [
    {
     "data": {
      "text/plain": [
       "array([1, 1, 2, 2, 3, 3, 4, 4, 5, 5], dtype=int32)"
      ]
     },
     "execution_count": 52,
     "metadata": {},
     "output_type": "execute_result"
    }
   ],
   "source": [
    "np.repeat(a,2)"
   ]
  },
  {
   "cell_type": "code",
   "execution_count": 54,
   "id": "8ad3c2f8-8f1d-4f84-a1e6-e0ba7d1fb8e7",
   "metadata": {},
   "outputs": [
    {
     "data": {
      "text/plain": [
       "array([1, 1, 2, 2, 3, 3, 4, 4, 5, 5], dtype=int32)"
      ]
     },
     "execution_count": 54,
     "metadata": {},
     "output_type": "execute_result"
    }
   ],
   "source": [
    "np.repeat(a,[2,2,2,2,2])"
   ]
  },
  {
   "cell_type": "code",
   "execution_count": 55,
   "id": "1bcb0d82-c8b9-459a-b9b5-9115adc65e63",
   "metadata": {},
   "outputs": [
    {
     "data": {
      "text/plain": [
       "array([1, 1], dtype=int32)"
      ]
     },
     "execution_count": 55,
     "metadata": {},
     "output_type": "execute_result"
    }
   ],
   "source": [
    "np.repeat(a,[2,0,0,0,0])"
   ]
  },
  {
   "cell_type": "code",
   "execution_count": 57,
   "id": "737c3e25-6cee-46a6-abe3-3db2162d63dd",
   "metadata": {},
   "outputs": [],
   "source": [
    "b = np.linspace(1,4,4, dtype=np.int32).reshape(2,2)"
   ]
  },
  {
   "cell_type": "code",
   "execution_count": 58,
   "id": "65feb418-d799-4448-aded-79685c7437a3",
   "metadata": {},
   "outputs": [
    {
     "data": {
      "text/plain": [
       "array([[1, 2],\n",
       "       [3, 4]], dtype=int32)"
      ]
     },
     "execution_count": 58,
     "metadata": {},
     "output_type": "execute_result"
    }
   ],
   "source": [
    "b"
   ]
  },
  {
   "cell_type": "code",
   "execution_count": 59,
   "id": "574c2633-c596-4a98-9a29-e14a2825b073",
   "metadata": {},
   "outputs": [
    {
     "data": {
      "text/plain": [
       "array([[1, 2],\n",
       "       [1, 2],\n",
       "       [3, 4],\n",
       "       [3, 4]], dtype=int32)"
      ]
     },
     "execution_count": 59,
     "metadata": {},
     "output_type": "execute_result"
    }
   ],
   "source": [
    "np.repeat(b,2, axis=0)"
   ]
  },
  {
   "cell_type": "code",
   "execution_count": 60,
   "id": "a789eb11-24a6-4dc7-bbea-316e30e9c320",
   "metadata": {},
   "outputs": [
    {
     "data": {
      "text/plain": [
       "array([[1, 1, 2, 2],\n",
       "       [3, 3, 4, 4]], dtype=int32)"
      ]
     },
     "execution_count": 60,
     "metadata": {},
     "output_type": "execute_result"
    }
   ],
   "source": [
    "np.repeat(b,2, axis=1)"
   ]
  },
  {
   "cell_type": "code",
   "execution_count": 61,
   "id": "b61aee6e-c816-41ee-908c-c7807ec5c67e",
   "metadata": {},
   "outputs": [
    {
     "data": {
      "text/plain": [
       "array([[1, 2],\n",
       "       [1, 2],\n",
       "       [3, 4],\n",
       "       [3, 4],\n",
       "       [3, 4]], dtype=int32)"
      ]
     },
     "execution_count": 61,
     "metadata": {},
     "output_type": "execute_result"
    }
   ],
   "source": [
    "np.repeat(b,[2,3], axis=0)"
   ]
  },
  {
   "cell_type": "code",
   "execution_count": 62,
   "id": "3d45ab87-2d8e-469b-981a-d0cdb46321db",
   "metadata": {},
   "outputs": [
    {
     "data": {
      "text/plain": [
       "array([[1, 1, 2, 2, 2],\n",
       "       [3, 3, 4, 4, 4]], dtype=int32)"
      ]
     },
     "execution_count": 62,
     "metadata": {},
     "output_type": "execute_result"
    }
   ],
   "source": [
    "np.repeat(b, [2,3], axis=1)"
   ]
  },
  {
   "cell_type": "code",
   "execution_count": 63,
   "id": "96fcc58e-8316-449b-a5e0-c314e47b16ca",
   "metadata": {},
   "outputs": [],
   "source": [
    "e = np.arange(4).reshape(2,2)"
   ]
  },
  {
   "cell_type": "code",
   "execution_count": 64,
   "id": "611b4380-007d-4e3e-805f-d47064eed76e",
   "metadata": {},
   "outputs": [
    {
     "data": {
      "text/plain": [
       "array([[0, 1],\n",
       "       [2, 3]])"
      ]
     },
     "execution_count": 64,
     "metadata": {},
     "output_type": "execute_result"
    }
   ],
   "source": [
    "e"
   ]
  },
  {
   "cell_type": "code",
   "execution_count": 65,
   "id": "f57f2734-dda4-4fe6-b8dd-11418cd3b89c",
   "metadata": {},
   "outputs": [
    {
     "data": {
      "text/plain": [
       "array([[0, 1, 0, 1],\n",
       "       [2, 3, 2, 3]])"
      ]
     },
     "execution_count": 65,
     "metadata": {},
     "output_type": "execute_result"
    }
   ],
   "source": [
    "np.tile(e,2)"
   ]
  },
  {
   "cell_type": "code",
   "execution_count": 66,
   "id": "b77ac25a-a6ad-43db-a84d-7182a667f6e6",
   "metadata": {},
   "outputs": [
    {
     "data": {
      "text/plain": [
       "array([[0, 1, 0, 1],\n",
       "       [2, 3, 2, 3],\n",
       "       [0, 1, 0, 1],\n",
       "       [2, 3, 2, 3]])"
      ]
     },
     "execution_count": 66,
     "metadata": {},
     "output_type": "execute_result"
    }
   ],
   "source": [
    "np.tile(e,[2,2])"
   ]
  },
  {
   "cell_type": "code",
   "execution_count": 67,
   "id": "f875f32d-80d8-481b-8539-532af0452e39",
   "metadata": {},
   "outputs": [
    {
     "data": {
      "text/plain": [
       "array([[[0, 1, 0, 1],\n",
       "        [2, 3, 2, 3],\n",
       "        [0, 1, 0, 1],\n",
       "        [2, 3, 2, 3]],\n",
       "\n",
       "       [[0, 1, 0, 1],\n",
       "        [2, 3, 2, 3],\n",
       "        [0, 1, 0, 1],\n",
       "        [2, 3, 2, 3]]])"
      ]
     },
     "execution_count": 67,
     "metadata": {},
     "output_type": "execute_result"
    }
   ],
   "source": [
    "np.tile(e,[2,2,2])"
   ]
  },
  {
   "cell_type": "code",
   "execution_count": 68,
   "id": "5c25dfe9-7a5b-4e7e-835c-094847151cd1",
   "metadata": {},
   "outputs": [],
   "source": [
    "a = np.linspace(1,6,6, dtype=np.int32).reshape(2,3)"
   ]
  },
  {
   "cell_type": "code",
   "execution_count": 70,
   "id": "89b61641-4ebe-4b5e-92aa-2e9432d0a292",
   "metadata": {},
   "outputs": [
    {
     "data": {
      "text/plain": [
       "array([[1, 2, 3],\n",
       "       [4, 5, 6]], dtype=int32)"
      ]
     },
     "execution_count": 70,
     "metadata": {},
     "output_type": "execute_result"
    }
   ],
   "source": [
    "a"
   ]
  },
  {
   "cell_type": "code",
   "execution_count": 71,
   "id": "0d6b2aeb-2c66-4ff3-a90e-d5041260ef8d",
   "metadata": {},
   "outputs": [],
   "source": [
    "b = np.linspace(7,13,6, dtype=np.int32).reshape(2,3)"
   ]
  },
  {
   "cell_type": "code",
   "execution_count": 72,
   "id": "60e0393e-bbbc-4b27-b433-61a30a51e8a2",
   "metadata": {},
   "outputs": [
    {
     "data": {
      "text/plain": [
       "array([[ 7,  8,  9],\n",
       "       [10, 11, 13]], dtype=int32)"
      ]
     },
     "execution_count": 72,
     "metadata": {},
     "output_type": "execute_result"
    }
   ],
   "source": [
    "b"
   ]
  },
  {
   "cell_type": "code",
   "execution_count": 73,
   "id": "b0e2d9b3-e18c-4c7b-be2e-11ab71d8b7ec",
   "metadata": {},
   "outputs": [
    {
     "data": {
      "text/plain": [
       "array([[ 1,  2,  3],\n",
       "       [ 4,  5,  6],\n",
       "       [ 7,  8,  9],\n",
       "       [10, 11, 13]], dtype=int32)"
      ]
     },
     "execution_count": 73,
     "metadata": {},
     "output_type": "execute_result"
    }
   ],
   "source": [
    "np.concatenate([a,b])"
   ]
  },
  {
   "cell_type": "code",
   "execution_count": 75,
   "id": "a15a0346-15b9-4ce1-a50f-5e8145ca7245",
   "metadata": {},
   "outputs": [
    {
     "data": {
      "text/plain": [
       "array([[ 1,  2,  3],\n",
       "       [ 4,  5,  6],\n",
       "       [ 7,  8,  9],\n",
       "       [10, 11, 13]], dtype=int32)"
      ]
     },
     "execution_count": 75,
     "metadata": {},
     "output_type": "execute_result"
    }
   ],
   "source": [
    "np.concatenate([a,b], axis=0)"
   ]
  },
  {
   "cell_type": "code",
   "execution_count": 76,
   "id": "9a30d811-c19e-4849-8c73-fa262a51f8d2",
   "metadata": {},
   "outputs": [],
   "source": [
    "c = np.linspace(7,15,8, dtype=np.int32).reshape(2,4)"
   ]
  },
  {
   "cell_type": "code",
   "execution_count": 77,
   "id": "a605bfe6-aadc-4b1a-a17e-1d1677a4abc0",
   "metadata": {},
   "outputs": [
    {
     "data": {
      "text/plain": [
       "array([[ 7,  8,  9, 10],\n",
       "       [11, 12, 13, 15]], dtype=int32)"
      ]
     },
     "execution_count": 77,
     "metadata": {},
     "output_type": "execute_result"
    }
   ],
   "source": [
    "c"
   ]
  },
  {
   "cell_type": "code",
   "execution_count": 78,
   "id": "3cd0543f-e884-49a4-b489-0809a935a24f",
   "metadata": {},
   "outputs": [
    {
     "name": "stdout",
     "output_type": "stream",
     "text": [
      "all the input array dimensions for the concatenation axis must match exactly, but along dimension 1, the array at index 0 has size 3 and the array at index 1 has size 4\n"
     ]
    }
   ],
   "source": [
    "try:\n",
    "    np.concatenate([a,c], axis=0)\n",
    "except Exception as e:\n",
    "    print(e)"
   ]
  },
  {
   "cell_type": "code",
   "execution_count": 79,
   "id": "06ebd187-6454-4c87-8768-a1fea18152e4",
   "metadata": {},
   "outputs": [
    {
     "data": {
      "text/plain": [
       "array([[ 1,  2,  3,  7,  8,  9],\n",
       "       [ 4,  5,  6, 10, 11, 13]], dtype=int32)"
      ]
     },
     "execution_count": 79,
     "metadata": {},
     "output_type": "execute_result"
    }
   ],
   "source": [
    "np.concatenate([a,b], axis=1)"
   ]
  },
  {
   "cell_type": "code",
   "execution_count": 80,
   "id": "0d409a46-f6d9-4c41-83a9-701b0fc39368",
   "metadata": {},
   "outputs": [
    {
     "data": {
      "text/plain": [
       "array([[ 1,  2,  3,  7,  8,  9, 10],\n",
       "       [ 4,  5,  6, 11, 12, 13, 15]], dtype=int32)"
      ]
     },
     "execution_count": 80,
     "metadata": {},
     "output_type": "execute_result"
    }
   ],
   "source": [
    "np.concatenate([a,c], axis=1)"
   ]
  },
  {
   "cell_type": "code",
   "execution_count": 81,
   "id": "0cf29dcf-0b61-477a-bdda-0df4da1bc746",
   "metadata": {},
   "outputs": [],
   "source": [
    "x = np.array([1,2,3])"
   ]
  },
  {
   "cell_type": "code",
   "execution_count": 82,
   "id": "b9dc8ac5-fe39-48ad-b2c5-6e900cb6d7cd",
   "metadata": {},
   "outputs": [],
   "source": [
    "y = np.array([4,5,6])"
   ]
  },
  {
   "cell_type": "code",
   "execution_count": 83,
   "id": "df4eef89-e7a1-4f8f-a131-fd855b56d91e",
   "metadata": {},
   "outputs": [
    {
     "data": {
      "text/plain": [
       "array([[1, 2, 3],\n",
       "       [4, 5, 6]])"
      ]
     },
     "execution_count": 83,
     "metadata": {},
     "output_type": "execute_result"
    }
   ],
   "source": [
    "np.stack([x,y])"
   ]
  },
  {
   "cell_type": "code",
   "execution_count": 84,
   "id": "199b7d32-fc2c-4a0c-9326-72e3a9bef088",
   "metadata": {},
   "outputs": [
    {
     "data": {
      "text/plain": [
       "array([[1, 2, 3],\n",
       "       [4, 5, 6]])"
      ]
     },
     "execution_count": 84,
     "metadata": {},
     "output_type": "execute_result"
    }
   ],
   "source": [
    "np.stack([x,y],axis=0)"
   ]
  },
  {
   "cell_type": "code",
   "execution_count": 85,
   "id": "e7ae604e-56d4-4456-b3d1-ff14c1824ef9",
   "metadata": {},
   "outputs": [],
   "source": [
    "z = np.array([7,8,9,10])"
   ]
  },
  {
   "cell_type": "code",
   "execution_count": 86,
   "id": "ed00a96a-f59f-4f1e-83d0-eceb1045e5c9",
   "metadata": {},
   "outputs": [
    {
     "name": "stdout",
     "output_type": "stream",
     "text": [
      "all input arrays must have the same shape\n"
     ]
    }
   ],
   "source": [
    "try:\n",
    "    np.stack([x,z],axis=0)\n",
    "except Exception as e:\n",
    "    print(e)"
   ]
  },
  {
   "cell_type": "code",
   "execution_count": 87,
   "id": "9ac3e81c-ce44-4053-b8d6-40be985955e2",
   "metadata": {},
   "outputs": [
    {
     "data": {
      "text/plain": [
       "array([[1, 4],\n",
       "       [2, 5],\n",
       "       [3, 6]])"
      ]
     },
     "execution_count": 87,
     "metadata": {},
     "output_type": "execute_result"
    }
   ],
   "source": [
    "np.stack([x,y], axis=1)"
   ]
  },
  {
   "cell_type": "code",
   "execution_count": 88,
   "id": "e2baf857-1884-4101-b8bb-1f014547e7af",
   "metadata": {},
   "outputs": [
    {
     "name": "stdout",
     "output_type": "stream",
     "text": [
      "all input arrays must have the same shape\n"
     ]
    }
   ],
   "source": [
    "try:\n",
    "    np.stack([x,z],axis=1)\n",
    "except Exception as e:\n",
    "    print(e)"
   ]
  },
  {
   "cell_type": "code",
   "execution_count": 89,
   "id": "15d9da4e-18aa-41fe-9a2b-d4a4115dc7db",
   "metadata": {},
   "outputs": [
    {
     "data": {
      "text/plain": [
       "array([[1, 4],\n",
       "       [2, 5],\n",
       "       [3, 6]])"
      ]
     },
     "execution_count": 89,
     "metadata": {},
     "output_type": "execute_result"
    }
   ],
   "source": [
    "np.stack([x,y], axis=-1)"
   ]
  },
  {
   "cell_type": "code",
   "execution_count": 90,
   "id": "02181d54-bea9-422e-9fad-e75cfa7fbb2f",
   "metadata": {},
   "outputs": [],
   "source": [
    "a = np.vstack([x,y])"
   ]
  },
  {
   "cell_type": "code",
   "execution_count": 91,
   "id": "d8b3d511-1542-401e-8088-84c690fa63f6",
   "metadata": {},
   "outputs": [
    {
     "data": {
      "text/plain": [
       "array([[1, 2, 3],\n",
       "       [4, 5, 6]])"
      ]
     },
     "execution_count": 91,
     "metadata": {},
     "output_type": "execute_result"
    }
   ],
   "source": [
    "a"
   ]
  },
  {
   "cell_type": "code",
   "execution_count": 92,
   "id": "1663675b-f335-4a61-97eb-f2f96817fb45",
   "metadata": {},
   "outputs": [
    {
     "data": {
      "text/plain": [
       "array([[1, 2, 3],\n",
       "       [4, 5, 6],\n",
       "       [1, 2, 3],\n",
       "       [4, 5, 6]])"
      ]
     },
     "execution_count": 92,
     "metadata": {},
     "output_type": "execute_result"
    }
   ],
   "source": [
    "np.vstack([a,a])"
   ]
  },
  {
   "cell_type": "code",
   "execution_count": 93,
   "id": "31d945ba-4832-4861-a067-be302ef17b8b",
   "metadata": {},
   "outputs": [
    {
     "data": {
      "text/plain": [
       "array([[[1, 2, 3],\n",
       "        [4, 5, 6]],\n",
       "\n",
       "       [[1, 2, 3],\n",
       "        [4, 5, 6]]])"
      ]
     },
     "execution_count": 93,
     "metadata": {},
     "output_type": "execute_result"
    }
   ],
   "source": [
    "np.vstack([[a,a]])"
   ]
  },
  {
   "cell_type": "code",
   "execution_count": 94,
   "id": "ba56e862-b4e6-4672-90f4-637cbd033908",
   "metadata": {},
   "outputs": [],
   "source": [
    "b = np.hstack([x,y])"
   ]
  },
  {
   "cell_type": "code",
   "execution_count": 95,
   "id": "fe0913dc-777d-4175-af6b-7125ed4b0073",
   "metadata": {},
   "outputs": [
    {
     "data": {
      "text/plain": [
       "array([1, 2, 3, 4, 5, 6])"
      ]
     },
     "execution_count": 95,
     "metadata": {},
     "output_type": "execute_result"
    }
   ],
   "source": [
    "b"
   ]
  },
  {
   "cell_type": "code",
   "execution_count": 96,
   "id": "7082b0cb-2718-4706-8e29-6eae6a41351a",
   "metadata": {},
   "outputs": [
    {
     "data": {
      "text/plain": [
       "array([1, 2, 3, 4, 5, 6, 1, 2, 3, 4, 5, 6])"
      ]
     },
     "execution_count": 96,
     "metadata": {},
     "output_type": "execute_result"
    }
   ],
   "source": [
    "np.hstack([b,b])"
   ]
  },
  {
   "cell_type": "code",
   "execution_count": 97,
   "id": "ff94279e-bf0a-47f4-8f53-057696183414",
   "metadata": {},
   "outputs": [],
   "source": [
    "c = b.reshape(1,6)"
   ]
  },
  {
   "cell_type": "code",
   "execution_count": 98,
   "id": "9fc15e44-870c-4b24-bc4c-3e04a8c69678",
   "metadata": {},
   "outputs": [
    {
     "data": {
      "text/plain": [
       "array([[1, 2, 3, 4, 5, 6, 1, 2, 3, 4, 5, 6]])"
      ]
     },
     "execution_count": 98,
     "metadata": {},
     "output_type": "execute_result"
    }
   ],
   "source": [
    "np.hstack([c,c])"
   ]
  },
  {
   "cell_type": "code",
   "execution_count": 99,
   "id": "9070a867-ba12-44e9-bf58-629c3f7b803a",
   "metadata": {},
   "outputs": [
    {
     "data": {
      "text/plain": [
       "array([[1, 2, 3],\n",
       "       [4, 5, 6],\n",
       "       [1, 2, 3],\n",
       "       [4, 5, 6]])"
      ]
     },
     "execution_count": 99,
     "metadata": {},
     "output_type": "execute_result"
    }
   ],
   "source": [
    "np.row_stack([a,a])"
   ]
  },
  {
   "cell_type": "code",
   "execution_count": 100,
   "id": "0bb11788-0c6c-4b7b-a77a-fd3172de24c2",
   "metadata": {},
   "outputs": [
    {
     "data": {
      "text/plain": [
       "array([[1, 1],\n",
       "       [2, 2],\n",
       "       [3, 3],\n",
       "       [4, 4],\n",
       "       [5, 5],\n",
       "       [6, 6]])"
      ]
     },
     "execution_count": 100,
     "metadata": {},
     "output_type": "execute_result"
    }
   ],
   "source": [
    "np.column_stack([b,b])"
   ]
  },
  {
   "cell_type": "code",
   "execution_count": 101,
   "id": "de6aec2e-2c60-47f9-9c90-ba3a1bc95deb",
   "metadata": {},
   "outputs": [
    {
     "data": {
      "text/plain": [
       "array([[1, 2, 3],\n",
       "       [4, 5, 6]])"
      ]
     },
     "execution_count": 101,
     "metadata": {},
     "output_type": "execute_result"
    }
   ],
   "source": [
    "a"
   ]
  },
  {
   "cell_type": "code",
   "execution_count": 102,
   "id": "99623193-185d-420c-bc7e-eb3833d51f29",
   "metadata": {},
   "outputs": [
    {
     "data": {
      "text/plain": [
       "array([[[1, 1],\n",
       "        [2, 2],\n",
       "        [3, 3]],\n",
       "\n",
       "       [[4, 4],\n",
       "        [5, 5],\n",
       "        [6, 6]]])"
      ]
     },
     "execution_count": 102,
     "metadata": {},
     "output_type": "execute_result"
    }
   ],
   "source": [
    "np.dstack([a,a])"
   ]
  },
  {
   "cell_type": "code",
   "execution_count": 103,
   "id": "164c20b5-dd5d-4f10-ac8c-d0447ed38e4e",
   "metadata": {},
   "outputs": [],
   "source": [
    "x = np.array([[1],[2],[3]])"
   ]
  },
  {
   "cell_type": "code",
   "execution_count": 104,
   "id": "de0436e6-869d-40ae-b54c-6362808502d5",
   "metadata": {},
   "outputs": [
    {
     "data": {
      "text/plain": [
       "array([[1],\n",
       "       [2],\n",
       "       [3]])"
      ]
     },
     "execution_count": 104,
     "metadata": {},
     "output_type": "execute_result"
    }
   ],
   "source": [
    "x"
   ]
  },
  {
   "cell_type": "code",
   "execution_count": 105,
   "id": "a4d45546-d768-4248-992a-2ff6a4d526df",
   "metadata": {},
   "outputs": [],
   "source": [
    "y = np.array([[2],[3],[4]])"
   ]
  },
  {
   "cell_type": "code",
   "execution_count": 106,
   "id": "eac27e2b-5b25-4c30-81cd-497245a89561",
   "metadata": {},
   "outputs": [
    {
     "data": {
      "text/plain": [
       "array([[2],\n",
       "       [3],\n",
       "       [4]])"
      ]
     },
     "execution_count": 106,
     "metadata": {},
     "output_type": "execute_result"
    }
   ],
   "source": [
    "y"
   ]
  },
  {
   "cell_type": "code",
   "execution_count": 107,
   "id": "9d7ad0bf-856a-4b1d-8ce2-bbe87286b102",
   "metadata": {},
   "outputs": [
    {
     "data": {
      "text/plain": [
       "array([[[1, 2]],\n",
       "\n",
       "       [[2, 3]],\n",
       "\n",
       "       [[3, 4]]])"
      ]
     },
     "execution_count": 107,
     "metadata": {},
     "output_type": "execute_result"
    }
   ],
   "source": [
    "np.dstack([x,y])"
   ]
  },
  {
   "cell_type": "code",
   "execution_count": null,
   "id": "cdbc83de-0f25-49ea-9b1f-ee113d4c3be8",
   "metadata": {},
   "outputs": [],
   "source": []
  }
 ],
 "metadata": {
  "kernelspec": {
   "display_name": "keras",
   "language": "python",
   "name": "keras"
  },
  "language_info": {
   "codemirror_mode": {
    "name": "ipython",
    "version": 3
   },
   "file_extension": ".py",
   "mimetype": "text/x-python",
   "name": "python",
   "nbconvert_exporter": "python",
   "pygments_lexer": "ipython3",
   "version": "3.8.11"
  }
 },
 "nbformat": 4,
 "nbformat_minor": 5
}
